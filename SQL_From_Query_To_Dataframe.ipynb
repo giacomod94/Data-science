{
 "cells": [
  {
   "cell_type": "code",
   "execution_count": 1,
   "metadata": {},
   "outputs": [],
   "source": [
    "import sqlite3\n",
    "import pandas as pd"
   ]
  },
  {
   "cell_type": "code",
   "execution_count": 2,
   "metadata": {},
   "outputs": [],
   "source": [
    "database = r\"C:\\Users\\Giacomo\\Desktop\\DataScience\\Python\\Turbine.db\""
   ]
  },
  {
   "cell_type": "code",
   "execution_count": 3,
   "metadata": {},
   "outputs": [],
   "source": [
    "conn = sqlite3.connect(database)"
   ]
  },
  {
   "cell_type": "code",
   "execution_count": 4,
   "metadata": {},
   "outputs": [],
   "source": [
    "c = conn.cursor()"
   ]
  },
  {
   "cell_type": "code",
   "execution_count": 5,
   "metadata": {},
   "outputs": [
    {
     "name": "stdout",
     "output_type": "stream",
     "text": [
      "             MeasuringTime         v1           p1         v2           p2  \\\n",
      "0      2018-01-01 00:00:00   6.914570   886.126630   7.085557  1028.915425   \n",
      "1      2018-01-01 00:10:00  10.351733  2544.636668  10.110209  2449.912585   \n",
      "2      2018-01-01 00:20:00  10.196003  2502.016482  10.686272  2517.662447   \n",
      "3      2018-01-01 00:30:00  14.060670  2966.599595  15.505852  2990.047635   \n",
      "4      2018-01-01 00:40:00  11.544665  2893.676365  11.699254  2738.473762   \n",
      "...                    ...        ...          ...        ...          ...   \n",
      "48948  2018-12-27 02:50:00   2.671236   -53.933050   2.949972   -10.909755   \n",
      "48949  2018-12-27 03:00:00   1.992694   -53.401558   2.449558    -7.262000   \n",
      "48950  2018-12-27 03:10:00   1.768106   -53.512085   2.123683    -8.568910   \n",
      "48951  2018-12-27 03:20:00   2.457174   -53.921163   2.580046   -10.133332   \n",
      "48952  2018-12-27 03:30:00   2.396844   -52.369788   2.351364    -9.607887   \n",
      "\n",
      "              v3           p3         v4           p4  \n",
      "0       8.383179  1485.843682   8.422845  1524.268963  \n",
      "1       9.740189  2237.560037  10.295856  2484.760353  \n",
      "2      12.118197  2836.317638  12.408478  2851.543847  \n",
      "3      14.373693  2978.429927  15.899314  2997.771167  \n",
      "4      11.152442  2671.050412  11.833974  2915.397698  \n",
      "...          ...          ...        ...          ...  \n",
      "48948   7.961793  1318.689183  10.691202  2704.602700  \n",
      "48949   8.641397  1679.770645   8.775098  1744.712772  \n",
      "48950   7.876202  1280.666742   7.463265  1081.123388  \n",
      "48951   8.023750  1346.859007   6.832413   832.599635  \n",
      "48952   8.207053  1451.633480   7.494273  1093.157487  \n",
      "\n",
      "[48953 rows x 9 columns]\n"
     ]
    }
   ],
   "source": [
    "df = pd.read_sql_query('select t1.MeasuringTime, t1.winavail_mean as v1, t1.actpower_mean as p1,t2.winavail_mean as v2, t2.actpower_mean as p2,t3.winavail_mean as v3, t3.actpower_mean as p3,t4.winavail_mean as v4, t4.actpower_mean as p4 \\\n",
    "from t1 \\\n",
    "join t2 on t1.MeasuringTime = t2.MeasuringTime \\\n",
    "join t3 on t1.MeasuringTime = t3.MeasuringTime \\\n",
    "join t4 on t1.MeasuringTime = t4.MeasuringTime',conn)\n",
    "print(df)"
   ]
  },
  {
   "cell_type": "code",
   "execution_count": 6,
   "metadata": {},
   "outputs": [],
   "source": [
    "conn.close()"
   ]
  },
  {
   "cell_type": "code",
   "execution_count": null,
   "metadata": {},
   "outputs": [],
   "source": []
  }
 ],
 "metadata": {
  "kernelspec": {
   "display_name": "Python 3",
   "language": "python",
   "name": "python3"
  },
  "language_info": {
   "codemirror_mode": {
    "name": "ipython",
    "version": 3
   },
   "file_extension": ".py",
   "mimetype": "text/x-python",
   "name": "python",
   "nbconvert_exporter": "python",
   "pygments_lexer": "ipython3",
   "version": "3.7.4"
  }
 },
 "nbformat": 4,
 "nbformat_minor": 4
}
