{
 "cells": [
  {
   "cell_type": "code",
   "execution_count": 2,
   "metadata": {},
   "outputs": [],
   "source": [
    "import pandas as pd\n",
    "import seaborn as sns\n",
    "from sklearn.tree import DecisionTreeRegressor\n",
    "from sklearn.ensemble import RandomForestRegressor\n",
    "from xgboost import XGBRegressor\n",
    "from sklearn.model_selection import train_test_split\n",
    "from sklearn.metrics import mean_absolute_error\n",
    "from sklearn.impute import SimpleImputer\n",
    "from sklearn.preprocessing import LabelEncoder\n",
    "from sklearn.preprocessing import OneHotEncoder\n",
    "from sklearn.pipeline import Pipeline\n",
    "import numpy as np\n",
    "import math\n",
    "import matplotlib.pyplot as plt\n",
    "import joblib\n",
    "from xgboost import plot_tree\n",
    "from xgboost import plot_importance\n",
    "from sklearn.utils import shuffle\n",
    "\n",
    "from datetime import datetime\n",
    "from datetime import timedelta"
   ]
  },
  {
   "cell_type": "code",
   "execution_count": 3,
   "metadata": {},
   "outputs": [
    {
     "data": {
      "text/html": [
       "<div>\n",
       "<style scoped>\n",
       "    .dataframe tbody tr th:only-of-type {\n",
       "        vertical-align: middle;\n",
       "    }\n",
       "\n",
       "    .dataframe tbody tr th {\n",
       "        vertical-align: top;\n",
       "    }\n",
       "\n",
       "    .dataframe thead th {\n",
       "        text-align: right;\n",
       "    }\n",
       "</style>\n",
       "<table border=\"1\" class=\"dataframe\">\n",
       "  <thead>\n",
       "    <tr style=\"text-align: right;\">\n",
       "      <th></th>\n",
       "      <th>actpower_mean</th>\n",
       "      <th>actpower_SD</th>\n",
       "      <th>acwindsp_mean</th>\n",
       "      <th>acwindsp_SD</th>\n",
       "      <th>winavail_mean</th>\n",
       "      <th>PitcPos_SD</th>\n",
       "      <th>ambietmp_mean</th>\n",
       "      <th>ambietmp_SD</th>\n",
       "      <th>winavail_SD</th>\n",
       "      <th>PitcPos_mean</th>\n",
       "      <th>NacelPos_mean</th>\n",
       "      <th>NacelPos_SD</th>\n",
       "      <th>turbinok</th>\n",
       "      <th>wtoperst</th>\n",
       "    </tr>\n",
       "    <tr>\n",
       "      <th>MeasuringTime</th>\n",
       "      <th></th>\n",
       "      <th></th>\n",
       "      <th></th>\n",
       "      <th></th>\n",
       "      <th></th>\n",
       "      <th></th>\n",
       "      <th></th>\n",
       "      <th></th>\n",
       "      <th></th>\n",
       "      <th></th>\n",
       "      <th></th>\n",
       "      <th></th>\n",
       "      <th></th>\n",
       "      <th></th>\n",
       "    </tr>\n",
       "  </thead>\n",
       "  <tbody>\n",
       "    <tr>\n",
       "      <td>2018-01-01 00:00:00</td>\n",
       "      <td>886.126630</td>\n",
       "      <td>484.696104</td>\n",
       "      <td>7.091023</td>\n",
       "      <td>1.590976</td>\n",
       "      <td>6.914570</td>\n",
       "      <td>0.816856</td>\n",
       "      <td>6.209388</td>\n",
       "      <td>0.147205</td>\n",
       "      <td>1.116815</td>\n",
       "      <td>-1.619397</td>\n",
       "      <td>336.900472</td>\n",
       "      <td>3.229169</td>\n",
       "      <td>1.0</td>\n",
       "      <td>0.0</td>\n",
       "    </tr>\n",
       "    <tr>\n",
       "      <td>2018-01-01 00:10:00</td>\n",
       "      <td>2544.636668</td>\n",
       "      <td>415.082365</td>\n",
       "      <td>10.608348</td>\n",
       "      <td>1.598455</td>\n",
       "      <td>10.351733</td>\n",
       "      <td>2.065005</td>\n",
       "      <td>5.619920</td>\n",
       "      <td>0.059893</td>\n",
       "      <td>0.993524</td>\n",
       "      <td>0.054668</td>\n",
       "      <td>342.943567</td>\n",
       "      <td>3.948880</td>\n",
       "      <td>1.0</td>\n",
       "      <td>0.0</td>\n",
       "    </tr>\n",
       "  </tbody>\n",
       "</table>\n",
       "</div>"
      ],
      "text/plain": [
       "                     actpower_mean  actpower_SD  acwindsp_mean  acwindsp_SD  \\\n",
       "MeasuringTime                                                                 \n",
       "2018-01-01 00:00:00     886.126630   484.696104       7.091023     1.590976   \n",
       "2018-01-01 00:10:00    2544.636668   415.082365      10.608348     1.598455   \n",
       "\n",
       "                     winavail_mean  PitcPos_SD  ambietmp_mean  ambietmp_SD  \\\n",
       "MeasuringTime                                                                \n",
       "2018-01-01 00:00:00       6.914570    0.816856       6.209388     0.147205   \n",
       "2018-01-01 00:10:00      10.351733    2.065005       5.619920     0.059893   \n",
       "\n",
       "                     winavail_SD  PitcPos_mean  NacelPos_mean  NacelPos_SD  \\\n",
       "MeasuringTime                                                                \n",
       "2018-01-01 00:00:00     1.116815     -1.619397     336.900472     3.229169   \n",
       "2018-01-01 00:10:00     0.993524      0.054668     342.943567     3.948880   \n",
       "\n",
       "                     turbinok  wtoperst  \n",
       "MeasuringTime                            \n",
       "2018-01-01 00:00:00       1.0       0.0  \n",
       "2018-01-01 00:10:00       1.0       0.0  "
      ]
     },
     "execution_count": 3,
     "metadata": {},
     "output_type": "execute_result"
    }
   ],
   "source": [
    "data = pd.read_csv(r'C:\\Users\\Giacomo\\Desktop\\polimi\\tesi\\SIEMENS\\Dataturbine1ok.csv')\n",
    "data['MeasuringTime'] = pd.to_datetime(data['MeasuringTime'], format= str(['%Y-%m-%d %H:%M:%S'])) #turbine1\n",
    "#data['MeasuringTime'] = pd.to_datetime(data2['MeasuringTime'], format= str(['%d/%m/%Y %H:%M'])) #turbine2,3,4\n",
    "data = data.drop('Unnamed: 0', axis = 'columns')\n",
    "data = data.set_index('MeasuringTime');# set MeasuringTime as index\n",
    "data.head(2)"
   ]
  },
  {
   "cell_type": "code",
   "execution_count": 4,
   "metadata": {},
   "outputs": [],
   "source": [
    "target = 'actpower_mean'"
   ]
  },
  {
   "cell_type": "code",
   "execution_count": 5,
   "metadata": {},
   "outputs": [],
   "source": [
    "X = data.drop([target], axis = 'columns')\n",
    "y = data[target]\n",
    "X_train, X_test, y_train, y_test = train_test_split(X, y, random_state = 10)"
   ]
  },
  {
   "cell_type": "code",
   "execution_count": 57,
   "metadata": {},
   "outputs": [],
   "source": [
    "model = RandomForestRegressor(n_estimators = 10,random_state=10, max_depth = 4)"
   ]
  },
  {
   "cell_type": "code",
   "execution_count": 58,
   "metadata": {},
   "outputs": [],
   "source": [
    "# Bundle preprocessing and modeling code in a pipeline\n",
    "my_pipeline = Pipeline(steps=[\n",
    "                              ('model', model)\n",
    "                             ])"
   ]
  },
  {
   "cell_type": "code",
   "execution_count": 59,
   "metadata": {},
   "outputs": [
    {
     "name": "stdout",
     "output_type": "stream",
     "text": [
      "MAE validation: 67.30269583433704\n",
      "MAE train: 66.9646256658212\n"
     ]
    }
   ],
   "source": [
    "# Preprocessing of training data, fit model \n",
    "my_pipeline.fit(X_train, y_train)\n",
    "\n",
    "# Preprocessing of validation data, get predictions\n",
    "preds_test = my_pipeline.predict(X_test)\n",
    "preds_train = my_pipeline.predict(X_train)\n",
    "\n",
    "# Evaluate the model\n",
    "score_test = mean_absolute_error(y_test, preds_test)\n",
    "score_train = mean_absolute_error(y_train, preds_train)\n",
    "print('MAE validation:', score_test)\n",
    "print('MAE train:', score_train)\n",
    "    \n",
    "    "
   ]
  },
  {
   "cell_type": "code",
   "execution_count": 60,
   "metadata": {},
   "outputs": [],
   "source": [
    "filename = './Example.joblib'\n",
    "_ = joblib.dump(model, filename, compress=9)"
   ]
  },
  {
   "cell_type": "code",
   "execution_count": 61,
   "metadata": {},
   "outputs": [],
   "source": [
    "tunedModel = joblib.load('./Example.joblib') "
   ]
  },
  {
   "cell_type": "code",
   "execution_count": 11,
   "metadata": {
    "scrolled": true
   },
   "outputs": [
    {
     "data": {
      "text/plain": [
       "Text(0.5, 1.0, 'Real vs Predicted')"
      ]
     },
     "execution_count": 11,
     "metadata": {},
     "output_type": "execute_result"
    },
    {
     "data": {
      "image/png": "[encoded data removed]",
      "text/plain": [
       "<Figure size 720x576 with 1 Axes>"
      ]
     },
     "metadata": {
      "needs_background": "light"
     },
     "output_type": "display_data"
    }
   ],
   "source": [
    "plt.figure(figsize = (10,8))\n",
    "plt.scatter(preds_test, y_test, alpha = 0.1)\n",
    "plt.xlabel('Predicted', fontsize = 25)\n",
    "plt.ylabel('Real', fontsize = 25)\n",
    "plt.yticks(fontsize = 15)\n",
    "plt.xticks(fontsize = 15)\n",
    "plt.title('Real vs Predicted', fontsize = 25)"
   ]
  },
  {
   "cell_type": "code",
   "execution_count": 35,
   "metadata": {},
   "outputs": [
    {
     "data": {
      "text/html": [
       "<div>\n",
       "<style scoped>\n",
       "    .dataframe tbody tr th:only-of-type {\n",
       "        vertical-align: middle;\n",
       "    }\n",
       "\n",
       "    .dataframe tbody tr th {\n",
       "        vertical-align: top;\n",
       "    }\n",
       "\n",
       "    .dataframe thead th {\n",
       "        text-align: right;\n",
       "    }\n",
       "</style>\n",
       "<table border=\"1\" class=\"dataframe\">\n",
       "  <thead>\n",
       "    <tr style=\"text-align: right;\">\n",
       "      <th></th>\n",
       "      <th>actpower_mean</th>\n",
       "      <th>actpower_SD</th>\n",
       "      <th>acwindsp_mean</th>\n",
       "      <th>acwindsp_SD</th>\n",
       "      <th>winavail_mean</th>\n",
       "      <th>PitcPos_SD</th>\n",
       "      <th>ambietmp_mean</th>\n",
       "      <th>ambietmp_SD</th>\n",
       "      <th>winavail_SD</th>\n",
       "      <th>PitcPos_mean</th>\n",
       "      <th>NacelPos_mean</th>\n",
       "      <th>NacelPos_SD</th>\n",
       "      <th>turbinok</th>\n",
       "      <th>wtoperst</th>\n",
       "    </tr>\n",
       "    <tr>\n",
       "      <th>MeasuringTime</th>\n",
       "      <th></th>\n",
       "      <th></th>\n",
       "      <th></th>\n",
       "      <th></th>\n",
       "      <th></th>\n",
       "      <th></th>\n",
       "      <th></th>\n",
       "      <th></th>\n",
       "      <th></th>\n",
       "      <th></th>\n",
       "      <th></th>\n",
       "      <th></th>\n",
       "      <th></th>\n",
       "      <th></th>\n",
       "    </tr>\n",
       "  </thead>\n",
       "  <tbody>\n",
       "    <tr>\n",
       "      <td>2018-01-01 00:00:00</td>\n",
       "      <td>1485.843682</td>\n",
       "      <td>1082.359116</td>\n",
       "      <td>8.406123</td>\n",
       "      <td>3.092946</td>\n",
       "      <td>8.383179</td>\n",
       "      <td>3.293807</td>\n",
       "      <td>5.662323</td>\n",
       "      <td>0.297089</td>\n",
       "      <td>2.757086</td>\n",
       "      <td>0.214500</td>\n",
       "      <td>258.959837</td>\n",
       "      <td>6.157459</td>\n",
       "      <td>1.0</td>\n",
       "      <td>0.0</td>\n",
       "    </tr>\n",
       "    <tr>\n",
       "      <td>2018-01-01 00:10:00</td>\n",
       "      <td>2237.560037</td>\n",
       "      <td>527.682992</td>\n",
       "      <td>9.693807</td>\n",
       "      <td>1.869755</td>\n",
       "      <td>9.740189</td>\n",
       "      <td>2.127322</td>\n",
       "      <td>5.179425</td>\n",
       "      <td>0.177278</td>\n",
       "      <td>1.211169</td>\n",
       "      <td>-0.783027</td>\n",
       "      <td>261.029221</td>\n",
       "      <td>3.279129</td>\n",
       "      <td>1.0</td>\n",
       "      <td>0.0</td>\n",
       "    </tr>\n",
       "  </tbody>\n",
       "</table>\n",
       "</div>"
      ],
      "text/plain": [
       "                     actpower_mean  actpower_SD  acwindsp_mean  acwindsp_SD  \\\n",
       "MeasuringTime                                                                 \n",
       "2018-01-01 00:00:00    1485.843682  1082.359116       8.406123     3.092946   \n",
       "2018-01-01 00:10:00    2237.560037   527.682992       9.693807     1.869755   \n",
       "\n",
       "                     winavail_mean  PitcPos_SD  ambietmp_mean  ambietmp_SD  \\\n",
       "MeasuringTime                                                                \n",
       "2018-01-01 00:00:00       8.383179    3.293807       5.662323     0.297089   \n",
       "2018-01-01 00:10:00       9.740189    2.127322       5.179425     0.177278   \n",
       "\n",
       "                     winavail_SD  PitcPos_mean  NacelPos_mean  NacelPos_SD  \\\n",
       "MeasuringTime                                                                \n",
       "2018-01-01 00:00:00     2.757086      0.214500     258.959837     6.157459   \n",
       "2018-01-01 00:10:00     1.211169     -0.783027     261.029221     3.279129   \n",
       "\n",
       "                     turbinok  wtoperst  \n",
       "MeasuringTime                            \n",
       "2018-01-01 00:00:00       1.0       0.0  \n",
       "2018-01-01 00:10:00       1.0       0.0  "
      ]
     },
     "execution_count": 35,
     "metadata": {},
     "output_type": "execute_result"
    }
   ],
   "source": []
  },
  {
   "cell_type": "code",
   "execution_count": 54,
   "metadata": {},
   "outputs": [
    {
     "name": "stdout",
     "output_type": "stream",
     "text": [
      "MAE: 38.23485804906932\n"
     ]
    }
   ],
   "source": []
  },
  {
   "cell_type": "code",
   "execution_count": 26,
   "metadata": {},
   "outputs": [
    {
     "data": {
      "image/png": "[encoded data removed]",
      "text/plain": [
       "<Figure size 1080x720 with 1 Axes>"
      ]
     },
     "metadata": {
      "needs_background": "light"
     },
     "output_type": "display_data"
    }
   ],
   "source": [
    "#learning curve\n",
    "n = 10\n",
    "test = []\n",
    "train = []\n",
    "k = 1\n",
    "lt = math.ceil(len(X_train)/n)\n",
    "    \n",
    "for m in range(n):\n",
    "    i = lt*k\n",
    "        \n",
    "    # Preprocessing of training data, fit model \n",
    "    my_pipeline.fit(X_train[0:i], y_train[0:i])\n",
    "\n",
    "    # Preprocessing of validation data, get predictions\n",
    "    preds_test = my_pipeline.predict(X_test)\n",
    "    preds_train = my_pipeline.predict(X_train[0:i])\n",
    "\n",
    "    # Evaluate the model\n",
    "    test.append(mean_absolute_error(y_test, preds_test))\n",
    "    train.append(mean_absolute_error(y_train[0:i], preds_train))\n",
    "    k = k+1\n",
    "        \n",
    "    #print(test)\n",
    "    #print(train)\n",
    "x = np.arange(lt+len(X_test),len(X_train)+len(X_test)+lt,lt)\n",
    "plt.figure(figsize = (15,10))\n",
    "plt.plot(x,test)\n",
    "plt.plot(x,train)\n",
    "plt.xlabel('Data', fontsize = 25)\n",
    "plt.ylabel('MAE', fontsize = 25)\n",
    "plt.yticks(fontsize = 15)\n",
    "plt.xticks(fontsize = 15)\n",
    "plt.title('LearningCurve', fontsize = 25)\n",
    "plt.show()\n",
    "    "
   ]
  },
  {
   "cell_type": "code",
   "execution_count": 91,
   "metadata": {},
   "outputs": [
    {
     "name": "stdout",
     "output_type": "stream",
     "text": [
      "MAE scores:\n",
      " [43.17829236 48.90736179 39.38254071 43.99873305 44.27704971] the mean is : [array([43.17829236, 48.90736179, 39.38254071, 43.99873305, 44.27704971])]\n",
      "MAE scores:\n",
      " [44.5258192  41.3727247  41.97868244 45.26565659 44.30191025] the mean is : [array([43.17829236, 48.90736179, 39.38254071, 43.99873305, 44.27704971]), array([44.5258192 , 41.3727247 , 41.97868244, 45.26565659, 44.30191025])]\n",
      "MAE scores:\n",
      " [52.05253752 48.63411477 44.56806797 55.1878383  52.81269105] the mean is : [array([43.17829236, 48.90736179, 39.38254071, 43.99873305, 44.27704971]), array([44.5258192 , 41.3727247 , 41.97868244, 45.26565659, 44.30191025]), array([52.05253752, 48.63411477, 44.56806797, 55.1878383 , 52.81269105])]\n",
      "MAE scores:\n",
      " [54.98188347 51.21082527 53.23373118 46.72863412 47.77737334] the mean is : [array([43.17829236, 48.90736179, 39.38254071, 43.99873305, 44.27704971]), array([44.5258192 , 41.3727247 , 41.97868244, 45.26565659, 44.30191025]), array([52.05253752, 48.63411477, 44.56806797, 55.1878383 , 52.81269105]), array([54.98188347, 51.21082527, 53.23373118, 46.72863412, 47.77737334])]\n",
      "MAE scores:\n",
      " [54.85947001 50.14099109 54.7154857  43.53188804 45.7809648 ] the mean is : [array([43.17829236, 48.90736179, 39.38254071, 43.99873305, 44.27704971]), array([44.5258192 , 41.3727247 , 41.97868244, 45.26565659, 44.30191025]), array([52.05253752, 48.63411477, 44.56806797, 55.1878383 , 52.81269105]), array([54.98188347, 51.21082527, 53.23373118, 46.72863412, 47.77737334]), array([54.85947001, 50.14099109, 54.7154857 , 43.53188804, 45.7809648 ])]\n",
      "MAE scores:\n",
      " [53.53954214 53.97096499 49.30893785 46.46843453 39.91263248] the mean is : [array([43.17829236, 48.90736179, 39.38254071, 43.99873305, 44.27704971]), array([44.5258192 , 41.3727247 , 41.97868244, 45.26565659, 44.30191025]), array([52.05253752, 48.63411477, 44.56806797, 55.1878383 , 52.81269105]), array([54.98188347, 51.21082527, 53.23373118, 46.72863412, 47.77737334]), array([54.85947001, 50.14099109, 54.7154857 , 43.53188804, 45.7809648 ]), array([53.53954214, 53.97096499, 49.30893785, 46.46843453, 39.91263248])]\n",
      "MAE scores:\n",
      " [51.81468259 51.70119373 44.90615407 40.20748663 41.18891375] the mean is : [array([43.17829236, 48.90736179, 39.38254071, 43.99873305, 44.27704971]), array([44.5258192 , 41.3727247 , 41.97868244, 45.26565659, 44.30191025]), array([52.05253752, 48.63411477, 44.56806797, 55.1878383 , 52.81269105]), array([54.98188347, 51.21082527, 53.23373118, 46.72863412, 47.77737334]), array([54.85947001, 50.14099109, 54.7154857 , 43.53188804, 45.7809648 ]), array([53.53954214, 53.97096499, 49.30893785, 46.46843453, 39.91263248]), array([51.81468259, 51.70119373, 44.90615407, 40.20748663, 41.18891375])]\n",
      "MAE scores:\n",
      " [52.59806172 55.19305076 49.2896416  40.62909846 38.73525304] the mean is : [array([43.17829236, 48.90736179, 39.38254071, 43.99873305, 44.27704971]), array([44.5258192 , 41.3727247 , 41.97868244, 45.26565659, 44.30191025]), array([52.05253752, 48.63411477, 44.56806797, 55.1878383 , 52.81269105]), array([54.98188347, 51.21082527, 53.23373118, 46.72863412, 47.77737334]), array([54.85947001, 50.14099109, 54.7154857 , 43.53188804, 45.7809648 ]), array([53.53954214, 53.97096499, 49.30893785, 46.46843453, 39.91263248]), array([51.81468259, 51.70119373, 44.90615407, 40.20748663, 41.18891375]), array([52.59806172, 55.19305076, 49.2896416 , 40.62909846, 38.73525304])]\n",
      "MAE scores:\n",
      " [64.07402056 53.54847714 46.49192059 38.61567062 46.82027218] the mean is : [array([43.17829236, 48.90736179, 39.38254071, 43.99873305, 44.27704971]), array([44.5258192 , 41.3727247 , 41.97868244, 45.26565659, 44.30191025]), array([52.05253752, 48.63411477, 44.56806797, 55.1878383 , 52.81269105]), array([54.98188347, 51.21082527, 53.23373118, 46.72863412, 47.77737334]), array([54.85947001, 50.14099109, 54.7154857 , 43.53188804, 45.7809648 ]), array([53.53954214, 53.97096499, 49.30893785, 46.46843453, 39.91263248]), array([51.81468259, 51.70119373, 44.90615407, 40.20748663, 41.18891375]), array([52.59806172, 55.19305076, 49.2896416 , 40.62909846, 38.73525304]), array([64.07402056, 53.54847714, 46.49192059, 38.61567062, 46.82027218])]\n",
      "MAE scores:\n",
      " [84.65735088 58.96671657 42.67869487 40.74990254 70.46852926] the mean is : [array([43.17829236, 48.90736179, 39.38254071, 43.99873305, 44.27704971]), array([44.5258192 , 41.3727247 , 41.97868244, 45.26565659, 44.30191025]), array([52.05253752, 48.63411477, 44.56806797, 55.1878383 , 52.81269105]), array([54.98188347, 51.21082527, 53.23373118, 46.72863412, 47.77737334]), array([54.85947001, 50.14099109, 54.7154857 , 43.53188804, 45.7809648 ]), array([53.53954214, 53.97096499, 49.30893785, 46.46843453, 39.91263248]), array([51.81468259, 51.70119373, 44.90615407, 40.20748663, 41.18891375]), array([52.59806172, 55.19305076, 49.2896416 , 40.62909846, 38.73525304]), array([64.07402056, 53.54847714, 46.49192059, 38.61567062, 46.82027218]), array([84.65735088, 58.96671657, 42.67869487, 40.74990254, 70.46852926])]\n"
     ]
    }
   ],
   "source": [
    "#learning curve\n",
    "n = 10\n",
    "score = []\n",
    "k = 1\n",
    "lt = math.ceil(len(X_train)/n)\n",
    "    \n",
    "for m in range(n):\n",
    "    i = lt*k\n",
    "        \n",
    "   \n",
    "    \n",
    "    # Multiply by -1 since sklearn calculates *negative* MAE\n",
    "    scores = -1 * cross_val_score(my_pipeline, X[0:i], y[0:i],\n",
    "                                  cv=5,\n",
    "                                  scoring='neg_mean_absolute_error')\n",
    "    score.append(scores)\n",
    "\n",
    "    print(\"MAE scores:\\n\", scores, 'the mean is :', score)\n",
    "    k = k+1\n",
    "        \n",
    "    #print(test)\n",
    "    #print(train)\n"
   ]
  },
  {
   "cell_type": "code",
   "execution_count": 25,
   "metadata": {},
   "outputs": [
    {
     "name": "stdout",
     "output_type": "stream",
     "text": [
      "[[  68.62166443  125.07964797   24.44624343 1099.86642871   43.07770752\n",
      "    25.17296726   24.28945139   25.19990172   99.34600258   24.49695961\n",
      "    24.37729587   24.2944236    24.37117336]\n",
      " [  69.85339908  125.45999188   22.37121422 1102.45013876   40.55732255\n",
      "    23.41039765   22.01819486   22.99657131  102.07055357   22.55970108\n",
      "    22.07218539   21.99779456   22.05013247]]\n"
     ]
    },
    {
     "data": {
      "image/png": "[encoded data removed]",
      "text/plain": [
       "<Figure size 1080x720 with 1 Axes>"
      ]
     },
     "metadata": {
      "needs_background": "light"
     },
     "output_type": "display_data"
    }
   ],
   "source": [
    "#feature selection\n",
    "#cp = cp.drop(['winavail_mean'],axis = 1)\n",
    "#print(cp.head(1))\n",
    "A = np.arange(0, len(X.columns), 1)\n",
    "\n",
    "mae = np.zeros((2,len(A)))\n",
    "for i in A:\n",
    "    cp = X.copy()\n",
    "    #X = cp.copy()\n",
    "    B = shuffle(cp.iloc[:,i].copy())\n",
    "    cp.iloc[:,i] = list(B)\n",
    "        \n",
    "    X_t, X_cv, y_t, y_cv = train_test_split(cp, y, random_state=10)\n",
    "        \n",
    "\n",
    "    Xgb = tunedModel\n",
    "    \n",
    "\n",
    "    y_predict_cv = Xgb.predict(X_cv)\n",
    "    y_predict_t = Xgb.predict(X_t)\n",
    "    mae[0,i] = mean_absolute_error(y_cv, y_predict_cv)\n",
    "    mae[1,i] = mean_absolute_error(y_t, y_predict_t)\n",
    "        \n",
    "\n",
    "        \n",
    "print(mae)\n",
    "plt.figure(figsize = (15,10))\n",
    "plt.bar(list(cp.columns),mae[1,:])\n",
    "plt.xlabel('columns')\n",
    "plt.ylabel('MAE')\n",
    "plt.xticks(rotation = 45)\n",
    "plt.show()\n",
    "    \n",
    "    "
   ]
  },
  {
   "cell_type": "code",
   "execution_count": 65,
   "metadata": {},
   "outputs": [
    {
     "name": "stdout",
     "output_type": "stream",
     "text": [
      "MAE scores:\n",
      " [ 96.59356621  52.17896489  41.6766195   66.5210281  104.45186049] the mean is : 72.28440783770682\n"
     ]
    }
   ],
   "source": [
    "#cv\n",
    "from sklearn.model_selection import cross_val_score\n",
    "\n",
    "# Multiply by -1 since sklearn calculates *negative* MAE\n",
    "scores = -1 * cross_val_score(my_pipeline, X, y,\n",
    "                              cv=5,\n",
    "                              scoring='neg_mean_absolute_error')\n",
    "\n",
    "print(\"MAE scores:\\n\", scores, 'the mean is :', np.mean(scores))"
   ]
  },
  {
   "cell_type": "code",
   "execution_count": 76,
   "metadata": {},
   "outputs": [
    {
     "data": {
      "text/html": [
       "<div>\n",
       "<style scoped>\n",
       "    .dataframe tbody tr th:only-of-type {\n",
       "        vertical-align: middle;\n",
       "    }\n",
       "\n",
       "    .dataframe tbody tr th {\n",
       "        vertical-align: top;\n",
       "    }\n",
       "\n",
       "    .dataframe thead th {\n",
       "        text-align: right;\n",
       "    }\n",
       "</style>\n",
       "<table border=\"1\" class=\"dataframe\">\n",
       "  <thead>\n",
       "    <tr style=\"text-align: right;\">\n",
       "      <th></th>\n",
       "      <th>actpower_mean</th>\n",
       "      <th>actpower_SD</th>\n",
       "      <th>acwindsp_mean</th>\n",
       "      <th>acwindsp_SD</th>\n",
       "      <th>winavail_mean</th>\n",
       "      <th>PitcPos_SD</th>\n",
       "      <th>ambietmp_mean</th>\n",
       "      <th>ambietmp_SD</th>\n",
       "      <th>winavail_SD</th>\n",
       "      <th>PitcPos_mean</th>\n",
       "      <th>NacelPos_mean</th>\n",
       "      <th>NacelPos_SD</th>\n",
       "      <th>turbinok</th>\n",
       "      <th>wtoperst</th>\n",
       "    </tr>\n",
       "    <tr>\n",
       "      <th>MeasuringTime</th>\n",
       "      <th></th>\n",
       "      <th></th>\n",
       "      <th></th>\n",
       "      <th></th>\n",
       "      <th></th>\n",
       "      <th></th>\n",
       "      <th></th>\n",
       "      <th></th>\n",
       "      <th></th>\n",
       "      <th></th>\n",
       "      <th></th>\n",
       "      <th></th>\n",
       "      <th></th>\n",
       "      <th></th>\n",
       "    </tr>\n",
       "  </thead>\n",
       "  <tbody>\n",
       "    <tr>\n",
       "      <td>2018-01-01 00:00:00</td>\n",
       "      <td>1028.915425</td>\n",
       "      <td>824.497609</td>\n",
       "      <td>7.011061</td>\n",
       "      <td>2.126572</td>\n",
       "      <td>7.085557</td>\n",
       "      <td>1.221476</td>\n",
       "      <td>7.378922</td>\n",
       "      <td>0.456440</td>\n",
       "      <td>1.844658</td>\n",
       "      <td>-1.377476</td>\n",
       "      <td>250.081598</td>\n",
       "      <td>2.864771</td>\n",
       "      <td>1.0</td>\n",
       "      <td>0.0</td>\n",
       "    </tr>\n",
       "    <tr>\n",
       "      <td>2018-01-01 00:10:00</td>\n",
       "      <td>2449.912585</td>\n",
       "      <td>399.089634</td>\n",
       "      <td>10.338112</td>\n",
       "      <td>1.531714</td>\n",
       "      <td>10.110209</td>\n",
       "      <td>1.793798</td>\n",
       "      <td>6.493402</td>\n",
       "      <td>0.672735</td>\n",
       "      <td>0.898947</td>\n",
       "      <td>-0.568549</td>\n",
       "      <td>255.046541</td>\n",
       "      <td>1.955936</td>\n",
       "      <td>1.0</td>\n",
       "      <td>0.0</td>\n",
       "    </tr>\n",
       "  </tbody>\n",
       "</table>\n",
       "</div>"
      ],
      "text/plain": [
       "                     actpower_mean  actpower_SD  acwindsp_mean  acwindsp_SD  \\\n",
       "MeasuringTime                                                                 \n",
       "2018-01-01 00:00:00    1028.915425   824.497609       7.011061     2.126572   \n",
       "2018-01-01 00:10:00    2449.912585   399.089634      10.338112     1.531714   \n",
       "\n",
       "                     winavail_mean  PitcPos_SD  ambietmp_mean  ambietmp_SD  \\\n",
       "MeasuringTime                                                                \n",
       "2018-01-01 00:00:00       7.085557    1.221476       7.378922     0.456440   \n",
       "2018-01-01 00:10:00      10.110209    1.793798       6.493402     0.672735   \n",
       "\n",
       "                     winavail_SD  PitcPos_mean  NacelPos_mean  NacelPos_SD  \\\n",
       "MeasuringTime                                                                \n",
       "2018-01-01 00:00:00     1.844658     -1.377476     250.081598     2.864771   \n",
       "2018-01-01 00:10:00     0.898947     -0.568549     255.046541     1.955936   \n",
       "\n",
       "                     turbinok  wtoperst  \n",
       "MeasuringTime                            \n",
       "2018-01-01 00:00:00       1.0       0.0  \n",
       "2018-01-01 00:10:00       1.0       0.0  "
      ]
     },
     "execution_count": 76,
     "metadata": {},
     "output_type": "execute_result"
    }
   ],
   "source": [
    "#select another turbine\n",
    "data1 = pd.read_csv(r'C:\\Users\\Giacomo\\Desktop\\polimi\\tesi\\SIEMENS\\Dataturbine2ok.csv')#2 and 3\n",
    "#data1 = pd.read_csv(r'C:\\Users\\Giacomo\\Desktop\\polimi\\tesi\\SIEMENS\\Dataturbine4ok.csv')\n",
    "data1['MeasuringTime'] = pd.to_datetime(data1['MeasuringTime'], format= str(['%d/%m/%Y %H:%M'])) #turbine2,3,4\n",
    "data1 = data1.drop('Unnamed: 0', axis = 'columns')\n",
    "data1 = data1.set_index('MeasuringTime');# set MeasuringTime as index\n",
    "data1.head(2)"
   ]
  },
  {
   "cell_type": "code",
   "execution_count": 77,
   "metadata": {},
   "outputs": [
    {
     "name": "stdout",
     "output_type": "stream",
     "text": [
      "MAE: 67.89907069109282\n"
     ]
    }
   ],
   "source": [
    "#use your model on other turbine data\n",
    "\n",
    "X1 = data1.drop([target], axis = 'columns')\n",
    "y1 = data1[target]\n",
    "#X_train1, X_test1, y_train1, y_test1 = train_test_split(X1, y1, random_state = 10)\n",
    "\n",
    "Xgb = tunedModel\n",
    "    \n",
    "y_predict = Xgb.predict(X1)\n",
    "\n",
    "\n",
    "# Evaluate the model\n",
    "score = mean_absolute_error(y1, y_predict)\n",
    "\n",
    "\n",
    "print('MAE:', score)\n"
   ]
  },
  {
   "cell_type": "code",
   "execution_count": 81,
   "metadata": {},
   "outputs": [],
   "source": [
    "# create a dataframe with all the results\n",
    "res = pd.DataFrame()\n",
    "res['wind_speed'] = data.winavail_mean\n",
    "res['power_mean'] = data.actpower_mean"
   ]
  },
  {
   "cell_type": "code",
   "execution_count": 89,
   "metadata": {},
   "outputs": [
    {
     "ename": "ValueError",
     "evalue": "Length of values does not match length of index",
     "output_type": "error",
     "traceback": [
      "\u001b[1;31m---------------------------------------------------------------------------\u001b[0m",
      "\u001b[1;31mValueError\u001b[0m                                Traceback (most recent call last)",
      "\u001b[1;32m<ipython-input-89-2488fb548458>\u001b[0m in \u001b[0;36m<module>\u001b[1;34m\u001b[0m\n\u001b[1;32m----> 1\u001b[1;33m \u001b[0mres\u001b[0m\u001b[1;33m[\u001b[0m\u001b[1;34m'pred2'\u001b[0m\u001b[1;33m]\u001b[0m \u001b[1;33m=\u001b[0m \u001b[0my_predict\u001b[0m\u001b[1;33m.\u001b[0m\u001b[0mcopy\u001b[0m\u001b[1;33m(\u001b[0m\u001b[1;33m)\u001b[0m\u001b[1;33m\u001b[0m\u001b[1;33m\u001b[0m\u001b[0m\n\u001b[0m",
      "\u001b[1;32m~\\Anaconda3\\lib\\site-packages\\pandas\\core\\frame.py\u001b[0m in \u001b[0;36m__setitem__\u001b[1;34m(self, key, value)\u001b[0m\n\u001b[0;32m   3470\u001b[0m         \u001b[1;32melse\u001b[0m\u001b[1;33m:\u001b[0m\u001b[1;33m\u001b[0m\u001b[1;33m\u001b[0m\u001b[0m\n\u001b[0;32m   3471\u001b[0m             \u001b[1;31m# set column\u001b[0m\u001b[1;33m\u001b[0m\u001b[1;33m\u001b[0m\u001b[1;33m\u001b[0m\u001b[0m\n\u001b[1;32m-> 3472\u001b[1;33m             \u001b[0mself\u001b[0m\u001b[1;33m.\u001b[0m\u001b[0m_set_item\u001b[0m\u001b[1;33m(\u001b[0m\u001b[0mkey\u001b[0m\u001b[1;33m,\u001b[0m \u001b[0mvalue\u001b[0m\u001b[1;33m)\u001b[0m\u001b[1;33m\u001b[0m\u001b[1;33m\u001b[0m\u001b[0m\n\u001b[0m\u001b[0;32m   3473\u001b[0m \u001b[1;33m\u001b[0m\u001b[0m\n\u001b[0;32m   3474\u001b[0m     \u001b[1;32mdef\u001b[0m \u001b[0m_setitem_slice\u001b[0m\u001b[1;33m(\u001b[0m\u001b[0mself\u001b[0m\u001b[1;33m,\u001b[0m \u001b[0mkey\u001b[0m\u001b[1;33m,\u001b[0m \u001b[0mvalue\u001b[0m\u001b[1;33m)\u001b[0m\u001b[1;33m:\u001b[0m\u001b[1;33m\u001b[0m\u001b[1;33m\u001b[0m\u001b[0m\n",
      "\u001b[1;32m~\\Anaconda3\\lib\\site-packages\\pandas\\core\\frame.py\u001b[0m in \u001b[0;36m_set_item\u001b[1;34m(self, key, value)\u001b[0m\n\u001b[0;32m   3547\u001b[0m \u001b[1;33m\u001b[0m\u001b[0m\n\u001b[0;32m   3548\u001b[0m         \u001b[0mself\u001b[0m\u001b[1;33m.\u001b[0m\u001b[0m_ensure_valid_index\u001b[0m\u001b[1;33m(\u001b[0m\u001b[0mvalue\u001b[0m\u001b[1;33m)\u001b[0m\u001b[1;33m\u001b[0m\u001b[1;33m\u001b[0m\u001b[0m\n\u001b[1;32m-> 3549\u001b[1;33m         \u001b[0mvalue\u001b[0m \u001b[1;33m=\u001b[0m \u001b[0mself\u001b[0m\u001b[1;33m.\u001b[0m\u001b[0m_sanitize_column\u001b[0m\u001b[1;33m(\u001b[0m\u001b[0mkey\u001b[0m\u001b[1;33m,\u001b[0m \u001b[0mvalue\u001b[0m\u001b[1;33m)\u001b[0m\u001b[1;33m\u001b[0m\u001b[1;33m\u001b[0m\u001b[0m\n\u001b[0m\u001b[0;32m   3550\u001b[0m         \u001b[0mNDFrame\u001b[0m\u001b[1;33m.\u001b[0m\u001b[0m_set_item\u001b[0m\u001b[1;33m(\u001b[0m\u001b[0mself\u001b[0m\u001b[1;33m,\u001b[0m \u001b[0mkey\u001b[0m\u001b[1;33m,\u001b[0m \u001b[0mvalue\u001b[0m\u001b[1;33m)\u001b[0m\u001b[1;33m\u001b[0m\u001b[1;33m\u001b[0m\u001b[0m\n\u001b[0;32m   3551\u001b[0m \u001b[1;33m\u001b[0m\u001b[0m\n",
      "\u001b[1;32m~\\Anaconda3\\lib\\site-packages\\pandas\\core\\frame.py\u001b[0m in \u001b[0;36m_sanitize_column\u001b[1;34m(self, key, value, broadcast)\u001b[0m\n\u001b[0;32m   3732\u001b[0m \u001b[1;33m\u001b[0m\u001b[0m\n\u001b[0;32m   3733\u001b[0m             \u001b[1;31m# turn me into an ndarray\u001b[0m\u001b[1;33m\u001b[0m\u001b[1;33m\u001b[0m\u001b[1;33m\u001b[0m\u001b[0m\n\u001b[1;32m-> 3734\u001b[1;33m             \u001b[0mvalue\u001b[0m \u001b[1;33m=\u001b[0m \u001b[0msanitize_index\u001b[0m\u001b[1;33m(\u001b[0m\u001b[0mvalue\u001b[0m\u001b[1;33m,\u001b[0m \u001b[0mself\u001b[0m\u001b[1;33m.\u001b[0m\u001b[0mindex\u001b[0m\u001b[1;33m,\u001b[0m \u001b[0mcopy\u001b[0m\u001b[1;33m=\u001b[0m\u001b[1;32mFalse\u001b[0m\u001b[1;33m)\u001b[0m\u001b[1;33m\u001b[0m\u001b[1;33m\u001b[0m\u001b[0m\n\u001b[0m\u001b[0;32m   3735\u001b[0m             \u001b[1;32mif\u001b[0m \u001b[1;32mnot\u001b[0m \u001b[0misinstance\u001b[0m\u001b[1;33m(\u001b[0m\u001b[0mvalue\u001b[0m\u001b[1;33m,\u001b[0m \u001b[1;33m(\u001b[0m\u001b[0mnp\u001b[0m\u001b[1;33m.\u001b[0m\u001b[0mndarray\u001b[0m\u001b[1;33m,\u001b[0m \u001b[0mIndex\u001b[0m\u001b[1;33m)\u001b[0m\u001b[1;33m)\u001b[0m\u001b[1;33m:\u001b[0m\u001b[1;33m\u001b[0m\u001b[1;33m\u001b[0m\u001b[0m\n\u001b[0;32m   3736\u001b[0m                 \u001b[1;32mif\u001b[0m \u001b[0misinstance\u001b[0m\u001b[1;33m(\u001b[0m\u001b[0mvalue\u001b[0m\u001b[1;33m,\u001b[0m \u001b[0mlist\u001b[0m\u001b[1;33m)\u001b[0m \u001b[1;32mand\u001b[0m \u001b[0mlen\u001b[0m\u001b[1;33m(\u001b[0m\u001b[0mvalue\u001b[0m\u001b[1;33m)\u001b[0m \u001b[1;33m>\u001b[0m \u001b[1;36m0\u001b[0m\u001b[1;33m:\u001b[0m\u001b[1;33m\u001b[0m\u001b[1;33m\u001b[0m\u001b[0m\n",
      "\u001b[1;32m~\\Anaconda3\\lib\\site-packages\\pandas\\core\\internals\\construction.py\u001b[0m in \u001b[0;36msanitize_index\u001b[1;34m(data, index, copy)\u001b[0m\n\u001b[0;32m    610\u001b[0m \u001b[1;33m\u001b[0m\u001b[0m\n\u001b[0;32m    611\u001b[0m     \u001b[1;32mif\u001b[0m \u001b[0mlen\u001b[0m\u001b[1;33m(\u001b[0m\u001b[0mdata\u001b[0m\u001b[1;33m)\u001b[0m \u001b[1;33m!=\u001b[0m \u001b[0mlen\u001b[0m\u001b[1;33m(\u001b[0m\u001b[0mindex\u001b[0m\u001b[1;33m)\u001b[0m\u001b[1;33m:\u001b[0m\u001b[1;33m\u001b[0m\u001b[1;33m\u001b[0m\u001b[0m\n\u001b[1;32m--> 612\u001b[1;33m         \u001b[1;32mraise\u001b[0m \u001b[0mValueError\u001b[0m\u001b[1;33m(\u001b[0m\u001b[1;34m\"Length of values does not match length of index\"\u001b[0m\u001b[1;33m)\u001b[0m\u001b[1;33m\u001b[0m\u001b[1;33m\u001b[0m\u001b[0m\n\u001b[0m\u001b[0;32m    613\u001b[0m \u001b[1;33m\u001b[0m\u001b[0m\n\u001b[0;32m    614\u001b[0m     \u001b[1;32mif\u001b[0m \u001b[0misinstance\u001b[0m\u001b[1;33m(\u001b[0m\u001b[0mdata\u001b[0m\u001b[1;33m,\u001b[0m \u001b[0mABCIndexClass\u001b[0m\u001b[1;33m)\u001b[0m \u001b[1;32mand\u001b[0m \u001b[1;32mnot\u001b[0m \u001b[0mcopy\u001b[0m\u001b[1;33m:\u001b[0m\u001b[1;33m\u001b[0m\u001b[1;33m\u001b[0m\u001b[0m\n",
      "\u001b[1;31mValueError\u001b[0m: Length of values does not match length of index"
     ]
    }
   ],
   "source": []
  },
  {
   "cell_type": "code",
   "execution_count": 83,
   "metadata": {},
   "outputs": [
    {
     "data": {
      "text/html": [
       "<div>\n",
       "<style scoped>\n",
       "    .dataframe tbody tr th:only-of-type {\n",
       "        vertical-align: middle;\n",
       "    }\n",
       "\n",
       "    .dataframe tbody tr th {\n",
       "        vertical-align: top;\n",
       "    }\n",
       "\n",
       "    .dataframe thead th {\n",
       "        text-align: right;\n",
       "    }\n",
       "</style>\n",
       "<table border=\"1\" class=\"dataframe\">\n",
       "  <thead>\n",
       "    <tr style=\"text-align: right;\">\n",
       "      <th></th>\n",
       "      <th>wind_speed</th>\n",
       "      <th>power_mean</th>\n",
       "    </tr>\n",
       "    <tr>\n",
       "      <th>MeasuringTime</th>\n",
       "      <th></th>\n",
       "      <th></th>\n",
       "    </tr>\n",
       "  </thead>\n",
       "  <tbody>\n",
       "    <tr>\n",
       "      <td>2018-01-01 00:00:00</td>\n",
       "      <td>6.914570</td>\n",
       "      <td>886.126630</td>\n",
       "    </tr>\n",
       "    <tr>\n",
       "      <td>2018-01-01 00:10:00</td>\n",
       "      <td>10.351733</td>\n",
       "      <td>2544.636668</td>\n",
       "    </tr>\n",
       "    <tr>\n",
       "      <td>2018-01-01 00:20:00</td>\n",
       "      <td>10.196003</td>\n",
       "      <td>2502.016482</td>\n",
       "    </tr>\n",
       "    <tr>\n",
       "      <td>2018-01-01 00:30:00</td>\n",
       "      <td>14.060670</td>\n",
       "      <td>2966.599595</td>\n",
       "    </tr>\n",
       "    <tr>\n",
       "      <td>2018-01-01 00:40:00</td>\n",
       "      <td>11.544665</td>\n",
       "      <td>2893.676365</td>\n",
       "    </tr>\n",
       "    <tr>\n",
       "      <td>...</td>\n",
       "      <td>...</td>\n",
       "      <td>...</td>\n",
       "    </tr>\n",
       "    <tr>\n",
       "      <td>2018-12-31 23:10:00</td>\n",
       "      <td>8.399902</td>\n",
       "      <td>1552.297365</td>\n",
       "    </tr>\n",
       "    <tr>\n",
       "      <td>2018-12-31 23:20:00</td>\n",
       "      <td>8.855333</td>\n",
       "      <td>1787.633827</td>\n",
       "    </tr>\n",
       "    <tr>\n",
       "      <td>2018-12-31 23:30:00</td>\n",
       "      <td>8.500631</td>\n",
       "      <td>1587.731215</td>\n",
       "    </tr>\n",
       "    <tr>\n",
       "      <td>2018-12-31 23:40:00</td>\n",
       "      <td>8.185833</td>\n",
       "      <td>1415.295277</td>\n",
       "    </tr>\n",
       "    <tr>\n",
       "      <td>2018-12-31 23:50:00</td>\n",
       "      <td>9.435194</td>\n",
       "      <td>2133.750753</td>\n",
       "    </tr>\n",
       "  </tbody>\n",
       "</table>\n",
       "<p>50879 rows × 2 columns</p>\n",
       "</div>"
      ],
      "text/plain": [
       "                     wind_speed   power_mean\n",
       "MeasuringTime                               \n",
       "2018-01-01 00:00:00    6.914570   886.126630\n",
       "2018-01-01 00:10:00   10.351733  2544.636668\n",
       "2018-01-01 00:20:00   10.196003  2502.016482\n",
       "2018-01-01 00:30:00   14.060670  2966.599595\n",
       "2018-01-01 00:40:00   11.544665  2893.676365\n",
       "...                         ...          ...\n",
       "2018-12-31 23:10:00    8.399902  1552.297365\n",
       "2018-12-31 23:20:00    8.855333  1787.633827\n",
       "2018-12-31 23:30:00    8.500631  1587.731215\n",
       "2018-12-31 23:40:00    8.185833  1415.295277\n",
       "2018-12-31 23:50:00    9.435194  2133.750753\n",
       "\n",
       "[50879 rows x 2 columns]"
      ]
     },
     "execution_count": 83,
     "metadata": {},
     "output_type": "execute_result"
    }
   ],
   "source": [
    "res"
   ]
  },
  {
   "cell_type": "code",
   "execution_count": null,
   "metadata": {},
   "outputs": [],
   "source": []
  }
 ],
 "metadata": {
  "kernelspec": {
   "display_name": "Python 3",
   "language": "python",
   "name": "python3"
  },
  "language_info": {
   "codemirror_mode": {
    "name": "ipython",
    "version": 3
   },
   "file_extension": ".py",
   "mimetype": "text/x-python",
   "name": "python",
   "nbconvert_exporter": "python",
   "pygments_lexer": "ipython3",
   "version": "3.7.4"
  }
 },
 "nbformat": 4,
 "nbformat_minor": 2
}
