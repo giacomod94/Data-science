{
 "cells": [
  {
   "cell_type": "code",
   "execution_count": 1,
   "metadata": {},
   "outputs": [],
   "source": [
    "#neural networks"
   ]
  },
  {
   "cell_type": "code",
   "execution_count": 3,
   "metadata": {},
   "outputs": [],
   "source": [
    "import matplotlib.pyplot as plt\n",
    "import numpy as np\n",
    "import pandas as pd\n",
    "from sklearn.model_selection import train_test_split\n",
    "from sklearn.model_selection import cross_val_score\n",
    "from sklearn.model_selection import KFold\n",
    "from sklearn.pipeline import Pipeline\n",
    "from sklearn.preprocessing import MinMaxScaler\n",
    "from tensorflow.python.keras.models import Sequential\n",
    "from tensorflow.python.keras.layers import Dense\n",
    "from tensorflow.python.keras.wrappers.scikit_learn import KerasRegressor"
   ]
  },
  {
   "cell_type": "code",
   "execution_count": 6,
   "metadata": {},
   "outputs": [],
   "source": [
    "dataset = pd.read_csv(r'C:\\Users\\Giacomo\\Desktop\\polimi\\tesi\\SIEMENS\\Dataturbine1ok.csv')"
   ]
  },
  {
   "cell_type": "code",
   "execution_count": 13,
   "metadata": {},
   "outputs": [
    {
     "name": "stdout",
     "output_type": "stream",
     "text": [
      "MinMaxScaler(copy=True, feature_range=(0, 1))\n",
      "MinMaxScaler(copy=True, feature_range=(0, 1))\n"
     ]
    }
   ],
   "source": [
    "#Variables\n",
    "\n",
    "x=dataset.drop(['actpower_mean','actpower_SD','MeasuringTime'], axis = 'columns')\n",
    "y=dataset['actpower_mean'].values\n",
    "y=np.reshape(y, (-1,1))\n",
    "scaler_x = MinMaxScaler()\n",
    "scaler_y = MinMaxScaler()\n",
    "print(scaler_x.fit(x))\n",
    "xscale=scaler_x.transform(x)\n",
    "print(scaler_y.fit(y))\n",
    "yscale=scaler_y.transform(y)"
   ]
  },
  {
   "cell_type": "code",
   "execution_count": 14,
   "metadata": {},
   "outputs": [],
   "source": [
    "X_train, X_test, y_train, y_test = train_test_split(xscale, yscale)"
   ]
  },
  {
   "cell_type": "code",
   "execution_count": 32,
   "metadata": {},
   "outputs": [
    {
     "name": "stdout",
     "output_type": "stream",
     "text": [
      "Model: \"sequential_2\"\n",
      "_________________________________________________________________\n",
      "Layer (type)                 Output Shape              Param #   \n",
      "=================================================================\n",
      "dense_6 (Dense)              (None, 20)                280       \n",
      "_________________________________________________________________\n",
      "dense_7 (Dense)              (None, 12)                252       \n",
      "_________________________________________________________________\n",
      "dense_8 (Dense)              (None, 1)                 13        \n",
      "=================================================================\n",
      "Total params: 545\n",
      "Trainable params: 545\n",
      "Non-trainable params: 0\n",
      "_________________________________________________________________\n"
     ]
    }
   ],
   "source": [
    "model = Sequential()\n",
    "model.add(Dense(20, input_dim=13, kernel_initializer='normal', activation='relu'))\n",
    "model.add(Dense(12, activation='relu'))\n",
    "model.add(Dense(1, activation='linear'))\n",
    "model.summary()"
   ]
  },
  {
   "cell_type": "code",
   "execution_count": 33,
   "metadata": {},
   "outputs": [],
   "source": [
    "model.compile(loss='mae', optimizer='adam', metrics=['mse','mae'])"
   ]
  },
  {
   "cell_type": "code",
   "execution_count": 34,
   "metadata": {},
   "outputs": [
    {
     "name": "stdout",
     "output_type": "stream",
     "text": [
      "Train on 30527 samples, validate on 7632 samples\n",
      "Epoch 1/50\n",
      "30527/30527 [==============================] - 2s 56us/sample - loss: 0.0783 - mse: 0.0249 - mae: 0.0783 - val_loss: 0.0196 - val_mse: 0.0023 - val_mae: 0.0196\n",
      "Epoch 2/50\n",
      "30527/30527 [==============================] - 1s 30us/sample - loss: 0.0160 - mse: 0.0013 - mae: 0.0160 - val_loss: 0.0131 - val_mse: 8.5507e-04 - val_mae: 0.0131\n",
      "Epoch 3/50\n",
      "30527/30527 [==============================] - 1s 30us/sample - loss: 0.0124 - mse: 7.6853e-04 - mae: 0.0124 - val_loss: 0.0113 - val_mse: 5.9820e-04 - val_mae: 0.0113\n",
      "Epoch 4/50\n",
      "30527/30527 [==============================] - 1s 30us/sample - loss: 0.0112 - mse: 6.1230e-04 - mae: 0.0112 - val_loss: 0.0111 - val_mse: 5.2663e-04 - val_mae: 0.0111\n",
      "Epoch 5/50\n",
      "30527/30527 [==============================] - 1s 30us/sample - loss: 0.0106 - mse: 5.2469e-04 - mae: 0.0106 - val_loss: 0.0093 - val_mse: 4.0414e-04 - val_mae: 0.0093\n",
      "Epoch 6/50\n",
      "30527/30527 [==============================] - 1s 30us/sample - loss: 0.0096 - mse: 4.5693e-04 - mae: 0.0096 - val_loss: 0.0102 - val_mse: 4.3536e-04 - val_mae: 0.0102\n",
      "Epoch 7/50\n",
      "30527/30527 [==============================] - 1s 30us/sample - loss: 0.0094 - mse: 4.2074e-04 - mae: 0.0094 - val_loss: 0.0084 - val_mse: 3.2413e-04 - val_mae: 0.0084\n",
      "Epoch 8/50\n",
      "30527/30527 [==============================] - 1s 31us/sample - loss: 0.0089 - mse: 3.8005e-04 - mae: 0.0089 - val_loss: 0.0078 - val_mse: 3.0817e-04 - val_mae: 0.0078 loss: 0.0089 - mse: 3.7989e-04 - mae: 0.008\n",
      "Epoch 9/50\n",
      "30527/30527 [==============================] - 1s 30us/sample - loss: 0.0088 - mse: 3.6512e-04 - mae: 0.0088 - val_loss: 0.0073 - val_mse: 2.8671e-04 - val_mae: 0.0073\n",
      "Epoch 10/50\n",
      "30527/30527 [==============================] - 1s 31us/sample - loss: 0.0082 - mse: 3.2886e-04 - mae: 0.0082 - val_loss: 0.0071 - val_mse: 2.5902e-04 - val_mae: 0.0071\n",
      "Epoch 11/50\n",
      "30527/30527 [==============================] - 1s 30us/sample - loss: 0.0079 - mse: 3.0824e-04 - mae: 0.0079 - val_loss: 0.0099 - val_mse: 2.8800e-04 - val_mae: 0.0099\n",
      "Epoch 12/50\n",
      "30527/30527 [==============================] - 1s 30us/sample - loss: 0.0080 - mse: 2.9960e-04 - mae: 0.0080 - val_loss: 0.0070 - val_mse: 2.5648e-04 - val_mae: 0.0070\n",
      "Epoch 13/50\n",
      "30527/30527 [==============================] - 1s 30us/sample - loss: 0.0074 - mse: 2.7795e-04 - mae: 0.0074 - val_loss: 0.0098 - val_mse: 2.7261e-04 - val_mae: 0.0098\n",
      "Epoch 14/50\n",
      "30527/30527 [==============================] - 1s 30us/sample - loss: 0.0072 - mse: 2.6801e-04 - mae: 0.0072 - val_loss: 0.0063 - val_mse: 2.0812e-04 - val_mae: 0.0063\n",
      "Epoch 15/50\n",
      "30527/30527 [==============================] - 1s 30us/sample - loss: 0.0070 - mse: 2.5387e-04 - mae: 0.0070 - val_loss: 0.0067 - val_mse: 2.2014e-04 - val_mae: 0.0067\n",
      "Epoch 16/50\n",
      "30527/30527 [==============================] - 1s 30us/sample - loss: 0.0069 - mse: 2.4575e-04 - mae: 0.0069 - val_loss: 0.0072 - val_mse: 2.1340e-04 - val_mae: 0.0072\n",
      "Epoch 17/50\n",
      "30527/30527 [==============================] - 1s 31us/sample - loss: 0.0066 - mse: 2.3307e-04 - mae: 0.0066 - val_loss: 0.0062 - val_mse: 1.8892e-04 - val_mae: 0.0062\n",
      "Epoch 18/50\n",
      "30527/30527 [==============================] - 1s 30us/sample - loss: 0.0065 - mse: 2.2489e-04 - mae: 0.0065 - val_loss: 0.0060 - val_mse: 1.8642e-04 - val_mae: 0.0060\n",
      "Epoch 19/50\n",
      "30527/30527 [==============================] - 1s 30us/sample - loss: 0.0063 - mse: 2.2328e-04 - mae: 0.0063 - val_loss: 0.0056 - val_mse: 1.7873e-04 - val_mae: 0.0056\n",
      "Epoch 20/50\n",
      "30527/30527 [==============================] - 1s 30us/sample - loss: 0.0063 - mse: 2.1392e-04 - mae: 0.0063 - val_loss: 0.0053 - val_mse: 1.7034e-04 - val_mae: 0.0053\n",
      "Epoch 21/50\n",
      "30527/30527 [==============================] - 1s 30us/sample - loss: 0.0064 - mse: 2.0998e-04 - mae: 0.0064 - val_loss: 0.0089 - val_mse: 2.2020e-04 - val_mae: 0.0089\n",
      "Epoch 22/50\n",
      "30527/30527 [==============================] - 1s 30us/sample - loss: 0.0063 - mse: 2.0615e-04 - mae: 0.0063 - val_loss: 0.0060 - val_mse: 1.6991e-04 - val_mae: 0.0060\n",
      "Epoch 23/50\n",
      "30527/30527 [==============================] - 1s 30us/sample - loss: 0.0061 - mse: 2.0172e-04 - mae: 0.0061 - val_loss: 0.0053 - val_mse: 1.5365e-04 - val_mae: 0.0053\n",
      "Epoch 24/50\n",
      "30527/30527 [==============================] - 1s 30us/sample - loss: 0.0060 - mse: 1.9514e-04 - mae: 0.0060 - val_loss: 0.0065 - val_mse: 1.6534e-04 - val_mae: 0.0065\n",
      "Epoch 25/50\n",
      "30527/30527 [==============================] - 1s 30us/sample - loss: 0.0060 - mse: 1.9130e-04 - mae: 0.0060 - val_loss: 0.0053 - val_mse: 1.6441e-04 - val_mae: 0.0053\n",
      "Epoch 26/50\n",
      "30527/30527 [==============================] - 1s 30us/sample - loss: 0.0059 - mse: 1.8685e-04 - mae: 0.0059 - val_loss: 0.0050 - val_mse: 1.4778e-04 - val_mae: 0.0050\n",
      "Epoch 27/50\n",
      "30527/30527 [==============================] - 1s 30us/sample - loss: 0.0060 - mse: 1.9194e-04 - mae: 0.0060 - val_loss: 0.0076 - val_mse: 1.9071e-04 - val_mae: 0.0076\n",
      "Epoch 28/50\n",
      "30527/30527 [==============================] - 1s 31us/sample - loss: 0.0059 - mse: 1.8398e-04 - mae: 0.0059 - val_loss: 0.0070 - val_mse: 1.8425e-04 - val_mae: 0.0070\n",
      "Epoch 29/50\n",
      "30527/30527 [==============================] - 1s 31us/sample - loss: 0.0059 - mse: 1.8165e-04 - mae: 0.0059 - val_loss: 0.0050 - val_mse: 1.4306e-04 - val_mae: 0.0050\n",
      "Epoch 30/50\n",
      "30527/30527 [==============================] - 1s 30us/sample - loss: 0.0060 - mse: 1.8061e-04 - mae: 0.0060 - val_loss: 0.0060 - val_mse: 1.5034e-04 - val_mae: 0.0060\n",
      "Epoch 31/50\n",
      "30527/30527 [==============================] - 1s 31us/sample - loss: 0.0060 - mse: 1.7770e-04 - mae: 0.0060 - val_loss: 0.0054 - val_mse: 1.4335e-04 - val_mae: 0.0054\n",
      "Epoch 32/50\n",
      "30527/30527 [==============================] - 1s 30us/sample - loss: 0.0057 - mse: 1.7212e-04 - mae: 0.0057 - val_loss: 0.0052 - val_mse: 1.4695e-04 - val_mae: 0.0052\n",
      "Epoch 33/50\n",
      "30527/30527 [==============================] - 1s 30us/sample - loss: 0.0058 - mse: 1.6964e-04 - mae: 0.0058 - val_loss: 0.0095 - val_mse: 2.1078e-04 - val_mae: 0.0095\n",
      "Epoch 34/50\n",
      "30527/30527 [==============================] - 1s 31us/sample - loss: 0.0058 - mse: 1.6825e-04 - mae: 0.0058 - val_loss: 0.0066 - val_mse: 1.6550e-04 - val_mae: 0.0066\n",
      "Epoch 35/50\n",
      "30527/30527 [==============================] - 1s 31us/sample - loss: 0.0059 - mse: 1.7036e-04 - mae: 0.0059 - val_loss: 0.0065 - val_mse: 1.6118e-04 - val_mae: 0.0065\n",
      "Epoch 36/50\n",
      "30527/30527 [==============================] - 1s 31us/sample - loss: 0.0057 - mse: 1.6603e-04 - mae: 0.0057 - val_loss: 0.0075 - val_mse: 1.7183e-04 - val_mae: 0.0075\n",
      "Epoch 37/50\n",
      "30527/30527 [==============================] - 1s 31us/sample - loss: 0.0058 - mse: 1.6340e-04 - mae: 0.0058 - val_loss: 0.0053 - val_mse: 1.3749e-04 - val_mae: 0.0053\n",
      "Epoch 38/50\n",
      "30527/30527 [==============================] - 1s 30us/sample - loss: 0.0060 - mse: 1.6616e-04 - mae: 0.0060 - val_loss: 0.0050 - val_mse: 1.2519e-04 - val_mae: 0.0050\n",
      "Epoch 39/50\n",
      "30527/30527 [==============================] - 1s 30us/sample - loss: 0.0057 - mse: 1.6141e-04 - mae: 0.0057 - val_loss: 0.0051 - val_mse: 1.2790e-04 - val_mae: 0.0051\n",
      "Epoch 40/50\n",
      "30527/30527 [==============================] - 1s 30us/sample - loss: 0.0056 - mse: 1.5539e-04 - mae: 0.0056 - val_loss: 0.0049 - val_mse: 1.2629e-04 - val_mae: 0.0049\n",
      "Epoch 41/50\n",
      "30527/30527 [==============================] - 1s 31us/sample - loss: 0.0057 - mse: 1.5418e-04 - mae: 0.0057 - val_loss: 0.0090 - val_mse: 2.1037e-04 - val_mae: 0.0090\n",
      "Epoch 42/50\n",
      "30527/30527 [==============================] - 1s 30us/sample - loss: 0.0060 - mse: 1.5943e-04 - mae: 0.0060 - val_loss: 0.0066 - val_mse: 1.4024e-04 - val_mae: 0.0066\n",
      "Epoch 43/50\n",
      "30527/30527 [==============================] - 1s 30us/sample - loss: 0.0056 - mse: 1.5204e-04 - mae: 0.0056 - val_loss: 0.0053 - val_mse: 1.4843e-04 - val_mae: 0.0053\n",
      "Epoch 44/50\n",
      "30527/30527 [==============================] - 1s 30us/sample - loss: 0.0057 - mse: 1.5630e-04 - mae: 0.0057 - val_loss: 0.0071 - val_mse: 1.4803e-04 - val_mae: 0.0071\n",
      "Epoch 45/50\n",
      "30527/30527 [==============================] - 1s 30us/sample - loss: 0.0056 - mse: 1.5129e-04 - mae: 0.0056 - val_loss: 0.0050 - val_mse: 1.2012e-04 - val_mae: 0.0050\n",
      "Epoch 46/50\n"
     ]
    },
    {
     "name": "stdout",
     "output_type": "stream",
     "text": [
      "30527/30527 [==============================] - 1s 30us/sample - loss: 0.0057 - mse: 1.5033e-04 - mae: 0.0057 - val_loss: 0.0054 - val_mse: 1.4823e-04 - val_mae: 0.0054\n",
      "Epoch 47/50\n",
      "30527/30527 [==============================] - 1s 30us/sample - loss: 0.0055 - mse: 1.4613e-04 - mae: 0.0055 - val_loss: 0.0052 - val_mse: 1.2553e-04 - val_mae: 0.0052\n",
      "Epoch 48/50\n",
      "30527/30527 [==============================] - 1s 30us/sample - loss: 0.0056 - mse: 1.4647e-04 - mae: 0.0056 - val_loss: 0.0050 - val_mse: 1.2844e-04 - val_mae: 0.0050\n",
      "Epoch 49/50\n",
      "30527/30527 [==============================] - 1s 31us/sample - loss: 0.0056 - mse: 1.4526e-04 - mae: 0.0056 - val_loss: 0.0055 - val_mse: 1.3091e-04 - val_mae: 0.0055\n",
      "Epoch 50/50\n",
      "30527/30527 [==============================] - 1s 30us/sample - loss: 0.0059 - mse: 1.4520e-04 - mae: 0.0059 - val_loss: 0.0070 - val_mse: 1.4863e-04 - val_mae: 0.0070\n"
     ]
    }
   ],
   "source": [
    ">>> history = model.fit(X_train, y_train, epochs=50, batch_size=50,  verbose=1, validation_split=0.2)"
   ]
  },
  {
   "cell_type": "code",
   "execution_count": 21,
   "metadata": {},
   "outputs": [
    {
     "name": "stdout",
     "output_type": "stream",
     "text": [
      "dict_keys(['loss', 'mse', 'mae', 'val_loss', 'val_mse', 'val_mae'])\n"
     ]
    },
    {
     "data": {
      "image/png": "[encoded data removed]",
      "text/plain": [
       "<Figure size 432x288 with 1 Axes>"
      ]
     },
     "metadata": {
      "needs_background": "light"
     },
     "output_type": "display_data"
    }
   ],
   "source": [
    "print(history.history.keys())\n",
    "# \"Loss\"\n",
    "plt.plot(history.history['loss'])\n",
    "plt.plot(history.history['val_loss'])\n",
    "plt.title('model loss')\n",
    "plt.ylabel('loss')\n",
    "plt.xlabel('epoch')\n",
    "plt.legend(['train', 'validation'], loc='upper left')\n",
    "plt.show()"
   ]
  },
  {
   "cell_type": "code",
   "execution_count": 35,
   "metadata": {},
   "outputs": [
    {
     "name": "stdout",
     "output_type": "stream",
     "text": [
      "X=[[1363.63514833]\n",
      " [1307.00982667]\n",
      " [ 255.1827    ]\n",
      " ...\n",
      " [2098.13873   ]\n",
      " [ 961.51333333]\n",
      " [1732.34023   ]], Predicted=[[1333.6505]\n",
      " [1282.3229]\n",
      " [ 253.0982]\n",
      " ...\n",
      " [2090.0227]\n",
      " [ 968.5346]\n",
      " [2109.7058]]\n",
      "22.319074326192553\n"
     ]
    },
    {
     "data": {
      "image/png": "[encoded data removed]",
      "text/plain": [
       "<Figure size 432x288 with 1 Axes>"
      ]
     },
     "metadata": {
      "needs_background": "light"
     },
     "output_type": "display_data"
    }
   ],
   "source": [
    "import matplotlib.pyplot as plt\n",
    "Xnew= scaler_x.transform(X_test)\n",
    "ynew= model.predict(X_test)\n",
    "#invert normalize\n",
    "ynew = scaler_y.inverse_transform(ynew) \n",
    "Xnew = scaler_x.inverse_transform(Xnew)\n",
    "ytest = scaler_y.inverse_transform(y_test)\n",
    "print(\"X=%s, Predicted=%s\" % (ytest, ynew))\n",
    "plt.scatter(ytest, ynew)\n",
    "print(np.mean(abs(ytest-ynew)))"
   ]
  }
 ],
 "metadata": {
  "kernelspec": {
   "display_name": "Python 3",
   "language": "python",
   "name": "python3"
  },
  "language_info": {
   "codemirror_mode": {
    "name": "ipython",
    "version": 3
   },
   "file_extension": ".py",
   "mimetype": "text/x-python",
   "name": "python",
   "nbconvert_exporter": "python",
   "pygments_lexer": "ipython3",
   "version": "3.7.4"
  }
 },
 "nbformat": 4,
 "nbformat_minor": 2
}
