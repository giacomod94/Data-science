{
 "cells": [
  {
   "cell_type": "code",
   "execution_count": 1,
   "metadata": {},
   "outputs": [],
   "source": [
    "#pandas 1"
   ]
  },
  {
   "cell_type": "code",
   "execution_count": 2,
   "metadata": {},
   "outputs": [],
   "source": [
    "import pandas as pd"
   ]
  },
  {
   "cell_type": "code",
   "execution_count": 3,
   "metadata": {},
   "outputs": [],
   "source": [
    "pd.DataFrame({'Bob': ['I liked it.', 'It was awful.'], \n",
    "              'Sue': ['Pretty good.', 'Bland.']},\n",
    "             index=['Product A', 'Product B']);"
   ]
  },
  {
   "cell_type": "code",
   "execution_count": 4,
   "metadata": {},
   "outputs": [],
   "source": [
    "data = pd.read_csv(r'C:\\Users\\Giacomo\\Desktop\\DataScience\\Python\\DataSet\\AB_NYC_2019.csv', sep = ',')"
   ]
  },
  {
   "cell_type": "code",
   "execution_count": 5,
   "metadata": {},
   "outputs": [],
   "source": [
    "data.head(2);"
   ]
  },
  {
   "cell_type": "code",
   "execution_count": 6,
   "metadata": {},
   "outputs": [],
   "source": [
    "#Index-based selection\n",
    "data.iloc[0]#print a line\n",
    "data.iloc[:,0]#print a columns\n",
    "data.iloc[:3, 0]#print the first 3 elements of a columns\n",
    "data.iloc[1:3, 0]\n",
    "data.iloc[[0, 7, 15], 0]#print the elements in the list\n",
    "data.iloc[-2:];#the last 5 elements of the columns"
   ]
  },
  {
   "cell_type": "code",
   "execution_count": 7,
   "metadata": {},
   "outputs": [],
   "source": [
    "#Label-based selection\n",
    "data.loc[:10,'id']#print the first 11 elements of the columns id\n",
    "data.loc[[1,5,9],'id']#print line 1,5,9 of id columns\n",
    "data.loc[:,['id','name','price']]#print all the line of the 3 selected columns\n",
    "data.loc[0,'name'];"
   ]
  },
  {
   "cell_type": "code",
   "execution_count": 8,
   "metadata": {},
   "outputs": [],
   "source": [
    "#it's better to use loc with str and iloc with numbers,maybe"
   ]
  },
  {
   "cell_type": "code",
   "execution_count": 9,
   "metadata": {},
   "outputs": [
    {
     "data": {
      "text/html": [
       "<div>\n",
       "<style scoped>\n",
       "    .dataframe tbody tr th:only-of-type {\n",
       "        vertical-align: middle;\n",
       "    }\n",
       "\n",
       "    .dataframe tbody tr th {\n",
       "        vertical-align: top;\n",
       "    }\n",
       "\n",
       "    .dataframe thead th {\n",
       "        text-align: right;\n",
       "    }\n",
       "</style>\n",
       "<table border=\"1\" class=\"dataframe\">\n",
       "  <thead>\n",
       "    <tr style=\"text-align: right;\">\n",
       "      <th></th>\n",
       "      <th>name</th>\n",
       "      <th>host_id</th>\n",
       "      <th>host_name</th>\n",
       "      <th>neighbourhood_group</th>\n",
       "      <th>neighbourhood</th>\n",
       "      <th>latitude</th>\n",
       "      <th>longitude</th>\n",
       "      <th>room_type</th>\n",
       "      <th>price</th>\n",
       "      <th>minimum_nights</th>\n",
       "      <th>number_of_reviews</th>\n",
       "      <th>last_review</th>\n",
       "      <th>reviews_per_month</th>\n",
       "      <th>calculated_host_listings_count</th>\n",
       "      <th>availability_365</th>\n",
       "    </tr>\n",
       "    <tr>\n",
       "      <th>id</th>\n",
       "      <th></th>\n",
       "      <th></th>\n",
       "      <th></th>\n",
       "      <th></th>\n",
       "      <th></th>\n",
       "      <th></th>\n",
       "      <th></th>\n",
       "      <th></th>\n",
       "      <th></th>\n",
       "      <th></th>\n",
       "      <th></th>\n",
       "      <th></th>\n",
       "      <th></th>\n",
       "      <th></th>\n",
       "      <th></th>\n",
       "    </tr>\n",
       "  </thead>\n",
       "  <tbody>\n",
       "    <tr>\n",
       "      <td>2539</td>\n",
       "      <td>Clean &amp; quiet apt home by the park</td>\n",
       "      <td>2787</td>\n",
       "      <td>John</td>\n",
       "      <td>Brooklyn</td>\n",
       "      <td>Kensington</td>\n",
       "      <td>40.64749</td>\n",
       "      <td>-73.97237</td>\n",
       "      <td>Private room</td>\n",
       "      <td>149</td>\n",
       "      <td>1</td>\n",
       "      <td>9</td>\n",
       "      <td>2018-10-19</td>\n",
       "      <td>0.21</td>\n",
       "      <td>6</td>\n",
       "      <td>365</td>\n",
       "    </tr>\n",
       "  </tbody>\n",
       "</table>\n",
       "</div>"
      ],
      "text/plain": [
       "                                    name  host_id host_name  \\\n",
       "id                                                            \n",
       "2539  Clean & quiet apt home by the park     2787      John   \n",
       "\n",
       "     neighbourhood_group neighbourhood  latitude  longitude     room_type  \\\n",
       "id                                                                          \n",
       "2539            Brooklyn    Kensington  40.64749  -73.97237  Private room   \n",
       "\n",
       "      price  minimum_nights  number_of_reviews last_review  reviews_per_month  \\\n",
       "id                                                                              \n",
       "2539    149               1                  9  2018-10-19               0.21   \n",
       "\n",
       "      calculated_host_listings_count  availability_365  \n",
       "id                                                      \n",
       "2539                               6               365  "
      ]
     },
     "execution_count": 9,
     "metadata": {},
     "output_type": "execute_result"
    }
   ],
   "source": [
    "#set the index of the dataframe\n",
    "data = data.set_index('id');\n",
    "data.head(1)"
   ]
  },
  {
   "cell_type": "code",
   "execution_count": 10,
   "metadata": {},
   "outputs": [],
   "source": [
    "#same expression\n",
    "data.neighbourhood_group == 'Manhattan'\n",
    "#isin, notin\n",
    "data.neighbourhood_group.isin(['Manhattan']);"
   ]
  },
  {
   "cell_type": "code",
   "execution_count": 11,
   "metadata": {},
   "outputs": [],
   "source": [
    "#same expression\n",
    "data[data.neighbourhood_group == 'Manhattan']\n",
    "data.loc[data.neighbourhood_group == 'Manhattan'];"
   ]
  },
  {
   "cell_type": "code",
   "execution_count": 12,
   "metadata": {},
   "outputs": [],
   "source": [
    "#and &\n",
    "data[(data.neighbourhood_group == 'Manhattan') & (data.reviews_per_month > 1)]\n",
    "#or |\n",
    "data[(data.neighbourhood_group == 'Manhattan' ) | (data.reviews_per_month > 1)];"
   ]
  },
  {
   "cell_type": "code",
   "execution_count": 13,
   "metadata": {},
   "outputs": [],
   "source": [
    "# isnull() and notnull()\n",
    "data[data.last_review.notnull()]\n",
    "data.loc[data.last_review.isnull()];"
   ]
  },
  {
   "cell_type": "code",
   "execution_count": 14,
   "metadata": {},
   "outputs": [],
   "source": [
    "#Assigning data\n",
    "data['pol'] = 'pol'\n",
    "data.head(2)\n",
    "#drop data\n",
    "data = data.drop(['pol'], axis = 1);"
   ]
  },
  {
   "cell_type": "code",
   "execution_count": 15,
   "metadata": {},
   "outputs": [],
   "source": [
    "#pandas 2"
   ]
  },
  {
   "cell_type": "code",
   "execution_count": 16,
   "metadata": {},
   "outputs": [
    {
     "name": "stdout",
     "output_type": "stream",
     "text": [
      "<class 'pandas.core.frame.DataFrame'>\n",
      "Int64Index: 48895 entries, 2539 to 36487245\n",
      "Data columns (total 15 columns):\n",
      "name                              48879 non-null object\n",
      "host_id                           48895 non-null int64\n",
      "host_name                         48874 non-null object\n",
      "neighbourhood_group               48895 non-null object\n",
      "neighbourhood                     48895 non-null object\n",
      "latitude                          48895 non-null float64\n",
      "longitude                         48895 non-null float64\n",
      "room_type                         48895 non-null object\n",
      "price                             48895 non-null int64\n",
      "minimum_nights                    48895 non-null int64\n",
      "number_of_reviews                 48895 non-null int64\n",
      "last_review                       38843 non-null object\n",
      "reviews_per_month                 38843 non-null float64\n",
      "calculated_host_listings_count    48895 non-null int64\n",
      "availability_365                  48895 non-null int64\n",
      "dtypes: float64(3), int64(6), object(6)\n",
      "memory usage: 6.0+ MB\n"
     ]
    }
   ],
   "source": [
    "import pandas_profiling\n",
    "#summary function\n",
    "data.describe()\n",
    "data.info()\n",
    "data.price.describe()\n",
    "data.price.mean() #to calculate the mean\n",
    "data.price.count()#to count how many values in this columns\n",
    "data.last_review.unique()#To see a list of unique values\n",
    "data.last_review.value_counts()\n",
    "data.price.value_counts()#To see a list of unique values(left) and how often they occur in the dataset(right)\n",
    "data.price.value_counts()[100];#to see how often 100 occurs in the dataser\n"
   ]
  },
  {
   "cell_type": "code",
   "execution_count": 18,
   "metadata": {},
   "outputs": [],
   "source": [
    "#profile = data.profile_report(title='Pandas Profiling Report')\n",
    "profile.to_file(\"profiling.html\")"
   ]
  },
  {
   "cell_type": "code",
   "execution_count": 178,
   "metadata": {},
   "outputs": [],
   "source": [
    "#Map, apply a function to every value of the list\n",
    "price_mean = data.price.mean()\n",
    "data.price.map(lambda x: x-price_mean);"
   ]
  },
  {
   "cell_type": "code",
   "execution_count": 179,
   "metadata": {},
   "outputs": [],
   "source": [
    "#apply,to transform a whole DataFrame by calling a custom method on each ROW\n",
    "def norm(row):\n",
    "    row.price = row.price - price_mean#we have defined price_mean above\n",
    "    return row\n",
    "data.apply(norm, axis = 'columns');# if axis = index it apply the function to each COLUMNS and not to each row!!!"
   ]
  },
  {
   "cell_type": "code",
   "execution_count": 193,
   "metadata": {},
   "outputs": [],
   "source": [
    "#Pandas provides many common mapping operations as built-ins\n",
    "data.price - data.price.mean() #faster than map or apply\n",
    "data.name + ' - ' + data.last_review;# incredible!"
   ]
  },
  {
   "cell_type": "code",
   "execution_count": 181,
   "metadata": {},
   "outputs": [],
   "source": [
    "#pandas 3"
   ]
  },
  {
   "cell_type": "code",
   "execution_count": 182,
   "metadata": {},
   "outputs": [],
   "source": [
    "#groupby()\n",
    "\n",
    "#we choose a feature or some features that we want to group, and then others that we want to visualize for each group, \n",
    "#applying a function that was already implemented or that we have written\n",
    "data.groupby('price').price.count()#for each different price it reports the number of values in the list\n",
    "data.groupby('price').minimum_nights.mean()#for each group of price it calculates the mean of the minumun_night\n",
    "data.groupby('minimum_nights').price.mean();#for each group of minumun_night it calculates the mean of the price"
   ]
  },
  {
   "cell_type": "code",
   "execution_count": 198,
   "metadata": {},
   "outputs": [],
   "source": [
    "data.groupby('last_review').apply(lambda df: df.price.iloc[0]);#for each group of last_review selects the first value of price\n",
    "data.groupby('availability_365').apply(lambda df:df[['price','minimum_nights']].mean())# let's rock\n",
    "#groupby of more object\n",
    "data.groupby(['neighbourhood_group','neighbourhood']).apply(lambda df:df[['price','reviews_per_month']].mean());#you have to choose the object carefully"
   ]
  },
  {
   "cell_type": "code",
   "execution_count": 184,
   "metadata": {},
   "outputs": [],
   "source": [
    "#run a bunch of different functions on your DataFrame simultaneously\n",
    "data.groupby('neighbourhood_group').reviews_per_month.agg([len,min,max]);"
   ]
  },
  {
   "cell_type": "code",
   "execution_count": 185,
   "metadata": {},
   "outputs": [],
   "source": [
    "#Multi-indexes\n",
    "view = data.groupby(['neighbourhood_group','neighbourhood']).reviews_per_month.agg([len,min,max])\n",
    "view;"
   ]
  },
  {
   "cell_type": "code",
   "execution_count": 186,
   "metadata": {},
   "outputs": [
    {
     "data": {
      "text/plain": [
       "<pandas._libs.properties.AxisProperty at 0x1f61dbf45c8>"
      ]
     },
     "execution_count": 186,
     "metadata": {},
     "output_type": "execute_result"
    }
   ],
   "source": [
    "type(view).index"
   ]
  },
  {
   "cell_type": "code",
   "execution_count": 187,
   "metadata": {},
   "outputs": [],
   "source": [
    "#you can study multiindex or use this function to return to normal index\n",
    "view = view.reset_index()\n",
    "view;"
   ]
  },
  {
   "cell_type": "code",
   "execution_count": 188,
   "metadata": {},
   "outputs": [],
   "source": [
    "#sort\n",
    "view.sort_values(by = 'len', ascending = False); #sort values by the len columns, from the bigger to the smaller"
   ]
  },
  {
   "cell_type": "code",
   "execution_count": 189,
   "metadata": {},
   "outputs": [],
   "source": [
    "view.sort_index(); #sort values by index"
   ]
  },
  {
   "cell_type": "code",
   "execution_count": 190,
   "metadata": {},
   "outputs": [],
   "source": [
    "view.sort_values(by = ['neighbourhood_group','len']);#sort values by the neighbourhood_group and than by len"
   ]
  },
  {
   "cell_type": "code",
   "execution_count": 199,
   "metadata": {},
   "outputs": [],
   "source": [
    "#pandas 4"
   ]
  },
  {
   "cell_type": "code",
   "execution_count": 211,
   "metadata": {},
   "outputs": [
    {
     "data": {
      "text/plain": [
       "dtype('int64')"
      ]
     },
     "execution_count": 211,
     "metadata": {},
     "output_type": "execute_result"
    }
   ],
   "source": [
    "#Dtypes\n",
    "data.dtypes\n",
    "data.price.astype('float64')#convert a column of one type into another\n",
    "data.price.astype('str')\n",
    "data.index.dtype;"
   ]
  },
  {
   "cell_type": "code",
   "execution_count": 218,
   "metadata": {},
   "outputs": [],
   "source": [
    "#Missing data pd.isnull(), pd.notnull()\n",
    "data[pd.isnull(data.reviews_per_month)];\n",
    "data[pd.notnull(data.reviews_per_month)];"
   ]
  },
  {
   "cell_type": "code",
   "execution_count": 224,
   "metadata": {},
   "outputs": [],
   "source": [
    "#fill the missing value .fillna()\n",
    "data.reviews_per_month.fillna('Unkown');\n",
    "data.neighbourhood_group.replace('Manhattan','jordina te quiero');"
   ]
  },
  {
   "cell_type": "code",
   "execution_count": 225,
   "metadata": {},
   "outputs": [],
   "source": [
    "#exercise: replace the NaN in the reviews_per_month with the mean in that city"
   ]
  },
  {
   "cell_type": "code",
   "execution_count": 310,
   "metadata": {},
   "outputs": [],
   "source": [
    "#i star by creating a dataframe with neighbourhood as id and the mean of the reviews_per_month as value\n",
    "subdata = data.groupby('neighbourhood').reviews_per_month.mean()\n",
    "subdata[pd.notnull(subdata)];\n",
    "subdata[pd.isnull(subdata)];\n",
    "#the question is good because it doesn't work only in 3 city\n",
    "subdata;"
   ]
  },
  {
   "cell_type": "code",
   "execution_count": 315,
   "metadata": {},
   "outputs": [],
   "source": [
    "#now i define a function that write the reviews_per_month NaN with the corresponding value in subset\n",
    "def idea(row):\n",
    "    if pd.isnull(row.reviews_per_month) == True:\n",
    "        row.reviews_per_month = subdata[row.neighbourhood]\n",
    "        \n",
    "    return row\n",
    "data.apply(idea, axis = 'columns');"
   ]
  },
  {
   "cell_type": "code",
   "execution_count": 316,
   "metadata": {},
   "outputs": [],
   "source": [
    "#pandas 5"
   ]
  },
  {
   "cell_type": "code",
   "execution_count": 321,
   "metadata": {},
   "outputs": [],
   "source": [
    "#rename columns and index\n",
    "data.rename(columns = {'price':'cost'});#change the columns name\n",
    "data.rename(index = {2539:'Mamma',1:'Supermamma'});#change the index with a value to the one that you want"
   ]
  },
  {
   "cell_type": "code",
   "execution_count": 323,
   "metadata": {},
   "outputs": [],
   "source": [
    "#rename axis\n",
    "data.rename_axis(\"dni\", axis='rows').rename_axis(\"fields\", axis='columns');"
   ]
  },
  {
   "cell_type": "code",
   "execution_count": 343,
   "metadata": {},
   "outputs": [],
   "source": [
    "a1 = data.groupby('neighbourhood').apply(lambda df:df[['price','reviews_per_month']].mean())\n",
    "a2 = data.groupby('neighbourhood').apply(lambda df:df[['price','reviews_per_month']].count())\n",
    "b1 = data.groupby('neighbourhood').apply(lambda df:df[['price','reviews_per_month']].mean())\n",
    "b2 = data.groupby('neighbourhood').apply(lambda df:df[['latitude','longitude']].mean())"
   ]
  },
  {
   "cell_type": "code",
   "execution_count": 339,
   "metadata": {},
   "outputs": [],
   "source": [
    "#concatenate 2 or more dataframe that have the same columns\n",
    "pd.concat([a1, a2]);"
   ]
  },
  {
   "cell_type": "code",
   "execution_count": 345,
   "metadata": {},
   "outputs": [],
   "source": [
    "#add a dataframe to another, you put suffix if the columns are the same\n",
    "a1.join(a2, lsuffix = '_mean', rsuffix = '_count');\n",
    "b1.join(b2);"
   ]
  }
 ],
 "metadata": {
  "kernelspec": {
   "display_name": "Python 3",
   "language": "python",
   "name": "python3"
  },
  "language_info": {
   "codemirror_mode": {
    "name": "ipython",
    "version": 3
   },
   "file_extension": ".py",
   "mimetype": "text/x-python",
   "name": "python",
   "nbconvert_exporter": "python",
   "pygments_lexer": "ipython3",
   "version": "3.7.4"
  }
 },
 "nbformat": 4,
 "nbformat_minor": 2
}
