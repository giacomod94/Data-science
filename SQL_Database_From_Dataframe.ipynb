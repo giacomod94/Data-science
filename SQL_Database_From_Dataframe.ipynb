{
 "cells": [
  {
   "cell_type": "code",
   "execution_count": 1,
   "metadata": {},
   "outputs": [],
   "source": [
    "#starting from pandas dataframe it create a database with multiples table in sql."
   ]
  },
  {
   "cell_type": "code",
   "execution_count": 3,
   "metadata": {},
   "outputs": [],
   "source": [
    "import sqlite3\n",
    "import pandas as pd"
   ]
  },
  {
   "cell_type": "code",
   "execution_count": 4,
   "metadata": {},
   "outputs": [],
   "source": [
    "data1 = pd.read_csv(r'C:\\Users\\Giacomo\\Desktop\\polimi\\tesi\\SIEMENS\\dataturbine1ok.csv')\n",
    "data2 = pd.read_csv(r'C:\\Users\\Giacomo\\Desktop\\polimi\\tesi\\SIEMENS\\dataturbine2ok.csv')\n",
    "data3 = pd.read_csv(r'C:\\Users\\Giacomo\\Desktop\\polimi\\tesi\\SIEMENS\\dataturbine3ok.csv')\n",
    "data4 = pd.read_csv(r'C:\\Users\\Giacomo\\Desktop\\polimi\\tesi\\SIEMENS\\dataturbine4ok.csv')"
   ]
  },
  {
   "cell_type": "code",
   "execution_count": 6,
   "metadata": {},
   "outputs": [],
   "source": [
    "\n",
    "#To use SQLite3 in Python, first of all, you will have to import the sqlite3 module and then create a connection object \n",
    "#which will connect us to the database and will let us execute the SQL statements.\n",
    "#A connection object is created using the connect() function:\n"
   ]
  },
  {
   "cell_type": "code",
   "execution_count": 8,
   "metadata": {},
   "outputs": [],
   "source": [
    "conn = sqlite3.connect('Turbine.db')"
   ]
  },
  {
   "cell_type": "code",
   "execution_count": 9,
   "metadata": {},
   "outputs": [],
   "source": [
    "#To execute SQLite statements in Python, you need a cursor object. You can create it using the cursor() method.\n",
    "#The SQLite3 cursor is a method of the connection object. To execute the SQLite3 statements, a connection is established at first \n",
    "#and then an object of the cursor is created using the connection object as follows:"
   ]
  },
  {
   "cell_type": "code",
   "execution_count": 10,
   "metadata": {},
   "outputs": [],
   "source": [
    "c = conn.cursor()"
   ]
  },
  {
   "cell_type": "code",
   "execution_count": 11,
   "metadata": {},
   "outputs": [],
   "source": [
    "#create a table"
   ]
  },
  {
   "cell_type": "code",
   "execution_count": null,
   "metadata": {},
   "outputs": [],
   "source": [
    "c.execute('CREATE TABLE T1 (vel)')\n",
    "c.execute('CREATE TABLE T2 (vel)')\n",
    "c.execute('CREATE TABLE T3 (vel)')\n",
    "c.execute('CREATE TABLE T4 (vel)')"
   ]
  },
  {
   "cell_type": "code",
   "execution_count": null,
   "metadata": {},
   "outputs": [],
   "source": [
    "conn.commit()"
   ]
  },
  {
   "cell_type": "code",
   "execution_count": null,
   "metadata": {},
   "outputs": [],
   "source": [
    "data1.to_sql('T1', conn, if_exists='replace', index = False)\n",
    "data2.to_sql('T2', conn, if_exists='replace', index = False)\n",
    "data3.to_sql('T3', conn, if_exists='replace', index = False)\n",
    "data4.to_sql('T4', conn, if_exists='replace', index = False)"
   ]
  },
  {
   "cell_type": "code",
   "execution_count": null,
   "metadata": {},
   "outputs": [],
   "source": [
    "c.close()"
   ]
  }
 ],
 "metadata": {
  "kernelspec": {
   "display_name": "Python 3",
   "language": "python",
   "name": "python3"
  },
  "language_info": {
   "codemirror_mode": {
    "name": "ipython",
    "version": 3
   },
   "file_extension": ".py",
   "mimetype": "text/x-python",
   "name": "python",
   "nbconvert_exporter": "python",
   "pygments_lexer": "ipython3",
   "version": "3.7.4"
  }
 },
 "nbformat": 4,
 "nbformat_minor": 4
}
