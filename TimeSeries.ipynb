{
 "cells": [
  {
   "cell_type": "code",
   "execution_count": 2,
   "metadata": {},
   "outputs": [],
   "source": [
    "#from a list to a timeseries"
   ]
  },
  {
   "cell_type": "code",
   "execution_count": 36,
   "metadata": {},
   "outputs": [],
   "source": [
    "#it's really important to import in this way\n",
    "import pandas as pd \n",
    "from datetime import datetime\n",
    "from datetime import timedelta"
   ]
  },
  {
   "cell_type": "code",
   "execution_count": 4,
   "metadata": {},
   "outputs": [],
   "source": [
    "data1 = pd.read_csv(r'C:\\Users\\Giacomo\\Desktop\\polimi\\tesi\\SIEMENS\\dataturbine1ok.csv')\n",
    "data2 = pd.read_csv(r'C:\\Users\\Giacomo\\Desktop\\polimi\\tesi\\SIEMENS\\dataturbine2ok.csv')\n",
    "data3 = pd.read_csv(r'C:\\Users\\Giacomo\\Desktop\\polimi\\tesi\\SIEMENS\\dataturbine3ok.csv')\n",
    "data4 = pd.read_csv(r'C:\\Users\\Giacomo\\Desktop\\polimi\\tesi\\SIEMENS\\dataturbine4ok.csv')"
   ]
  },
  {
   "cell_type": "code",
   "execution_count": 10,
   "metadata": {},
   "outputs": [],
   "source": [
    "#example to convert something like:\n",
    "d = 'November 30, 2019'\n",
    "d = pd.to_datetime(d, infer_datetime_format=True)\n",
    "d;"
   ]
  },
  {
   "cell_type": "code",
   "execution_count": 11,
   "metadata": {},
   "outputs": [],
   "source": [
    "data1['MeasuringTime'] = pd.to_datetime(data1['MeasuringTime'], format= str(['%Y-%m-%d %H:%M:%S']))\n",
    "data2['MeasuringTime'] = pd.to_datetime(data2['MeasuringTime'], format= str(['%d/%m/%Y %H:%M']))\n",
    "data3['MeasuringTime'] = pd.to_datetime(data2['MeasuringTime'], format= str(['%d/%m/%Y %H:%M']))\n",
    "data4['MeasuringTime'] = pd.to_datetime(data2['MeasuringTime'], format= str(['%d/%m/%Y %H:%M']))"
   ]
  },
  {
   "cell_type": "code",
   "execution_count": 12,
   "metadata": {},
   "outputs": [],
   "source": [
    "data1 = data1.set_index('MeasuringTime')\n",
    "data2 = data2.set_index('MeasuringTime')\n",
    "data3 = data3.set_index('MeasuringTime')\n",
    "data4 = data4.set_index('MeasuringTime')"
   ]
  },
  {
   "cell_type": "code",
   "execution_count": 13,
   "metadata": {},
   "outputs": [],
   "source": [
    "data1 = data1.drop(['Unnamed: 0'],axis = 1)\n",
    "data2 = data2.drop(['Unnamed: 0'],axis = 1)\n",
    "data3 = data3.drop(['Unnamed: 0'],axis = 1)\n",
    "data4 = data4.drop(['Unnamed: 0'],axis = 1)"
   ]
  },
  {
   "cell_type": "code",
   "execution_count": 15,
   "metadata": {},
   "outputs": [],
   "source": [
    "data1;"
   ]
  },
  {
   "cell_type": "code",
   "execution_count": 17,
   "metadata": {},
   "outputs": [],
   "source": [
    "data2;"
   ]
  },
  {
   "cell_type": "code",
   "execution_count": 18,
   "metadata": {},
   "outputs": [],
   "source": [
    "#notice that time searies have always the same structer, they are easy to manipulate in SQL"
   ]
  },
  {
   "cell_type": "code",
   "execution_count": 30,
   "metadata": {},
   "outputs": [
    {
     "data": {
      "text/plain": [
       "0"
      ]
     },
     "execution_count": 30,
     "metadata": {},
     "output_type": "execute_result"
    }
   ],
   "source": [
    "data1.index[0].day\n",
    "data1.index[0].month\n",
    "data1.index[0].year\n",
    "dt = data1.index[0]\n",
    "dt.strftime(\"%d/%m/%Y\") #20/10/2019\n",
    "dt.strftime(\"%b %d, %Y\") #Oct 20, 2019\n",
    "dt.strftime(\"%B %d, %Y\") #October 20, 2019\n",
    "dt.strftime(\"%a %B %d, %Y\") #Sun October 20, 2019\n",
    "dt.strftime(\"%A %B %d, %Y\") #Sunday October 20, 2019\n",
    "dt.strftime(\"%A, %B %d, %Y\") #Sunday, October 20, 2019\n",
    "dt.hour \n",
    "dt.minute\n",
    "dt.second\n",
    "dt.microsecond"
   ]
  },
  {
   "cell_type": "code",
   "execution_count": 40,
   "metadata": {},
   "outputs": [
    {
     "name": "stdout",
     "output_type": "stream",
     "text": [
      "2018-01-01 00:00:00 2018-01-29 03:30:30\n"
     ]
    }
   ],
   "source": [
    "#canculate future and past dates\n",
    "delta =timedelta(weeks= 4, hours=3, minutes=30, seconds=30)\n",
    "print(dt,dt + delta) #2019-08-17 14:21:30"
   ]
  },
  {
   "cell_type": "code",
   "execution_count": null,
   "metadata": {},
   "outputs": [],
   "source": []
  }
 ],
 "metadata": {
  "kernelspec": {
   "display_name": "Python 3",
   "language": "python",
   "name": "python3"
  },
  "language_info": {
   "codemirror_mode": {
    "name": "ipython",
    "version": 3
   },
   "file_extension": ".py",
   "mimetype": "text/x-python",
   "name": "python",
   "nbconvert_exporter": "python",
   "pygments_lexer": "ipython3",
   "version": "3.7.4"
  }
 },
 "nbformat": 4,
 "nbformat_minor": 4
}
